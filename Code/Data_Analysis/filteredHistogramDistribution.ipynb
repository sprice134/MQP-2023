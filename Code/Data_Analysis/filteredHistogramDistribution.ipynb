{
 "cells": [
  {
   "cell_type": "code",
   "execution_count": 33,
   "metadata": {},
   "outputs": [],
   "source": [
    "import matplotlib\n",
    "import pandas as pd\n",
    "import numpy as np\n",
    "import seaborn as sns\n",
    "import matplotlib.pyplot as plt"
   ]
  },
  {
   "cell_type": "code",
   "execution_count": 34,
   "metadata": {},
   "outputs": [
    {
     "name": "stdout",
     "output_type": "stream",
     "text": [
      "(569, 32)\n"
     ]
    }
   ],
   "source": [
    "cols = ['ID', 'Diagnosis', 'radius', 'texture', 'perimeter', 'area', 'smoothness', 'compactness', 'concavity', 'concave_points', 'symmetry', 'fractal_dimension',\n",
    "        'radius_SE', 'texture_SE', 'perimeter_SE', 'area_SE', 'smoothness_SE', 'compactness_SE', 'concavity_SE', 'concave_points_SE', 'symmetry_SE', 'fractal_dimension_SE',\n",
    "        'radius_MAX', 'texture_MAX', 'perimeter_MAX', 'area_MAX', 'smoothness_MAX', 'compactness_MAX', 'concavity_MAX', 'concave_points_MAX', 'symmetry_MAX', 'fractal_dimension_MAX']\n",
    "df = pd.read_csv('../../Wisconsin_Database/wdbc.data', header=None)\n",
    "df.columns = cols\n",
    "df['Diagnosis'] = df['Diagnosis'].map(\n",
    "                   {'M':1 ,'B':0})\n",
    "print(df.shape)"
   ]
  },
  {
   "cell_type": "code",
   "execution_count": 35,
   "metadata": {},
   "outputs": [],
   "source": [
    "arr2D = df.to_numpy()\n",
    "columnIndex = 1\n",
    "sortedArr = arr2D[arr2D[:,columnIndex].argsort()]\n",
    "numZeros = list(sortedArr[:, 1]).count(0)\n",
    "benignDF, malignantDF = pd.DataFrame(sortedArr[0:numZeros]), pd.DataFrame(sortedArr[numZeros:])\n",
    "benignDF.columns = cols\n",
    "malignantDF.columns = cols\n"
   ]
  },
  {
   "cell_type": "code",
   "execution_count": 36,
   "metadata": {},
   "outputs": [
    {
     "name": "stdout",
     "output_type": "stream",
     "text": [
      "----------------------------------------\n",
      "Column: radius\n",
      " Bening - Min: 6.981, Max: 17.85, Mean: 12.15, Std Dev: 1.78\n",
      " Malignant - Min: 10.95, Max: 28.11, Mean: 17.46, Std Dev: 3.20\n",
      "----------------------------------------\n",
      "Column: texture\n",
      " Bening - Min: 9.71, Max: 33.81, Mean: 17.91, Std Dev: 3.99\n",
      " Malignant - Min: 10.38, Max: 39.28, Mean: 21.60, Std Dev: 3.77\n",
      "----------------------------------------\n",
      "Column: perimeter\n",
      " Bening - Min: 43.79, Max: 114.6, Mean: 78.08, Std Dev: 11.79\n",
      " Malignant - Min: 71.9, Max: 188.5, Mean: 115.37, Std Dev: 21.80\n",
      "----------------------------------------\n",
      "Column: area\n",
      " Bening - Min: 143.5, Max: 992.1, Mean: 462.79, Std Dev: 134.10\n",
      " Malignant - Min: 361.6, Max: 2501.0, Mean: 978.38, Std Dev: 367.07\n",
      "----------------------------------------\n",
      "Column: smoothness\n",
      " Bening - Min: 0.05263, Max: 0.1634, Mean: 0.09, Std Dev: 0.01\n",
      " Malignant - Min: 0.07371, Max: 0.1447, Mean: 0.10, Std Dev: 0.01\n",
      "----------------------------------------\n",
      "Column: compactness\n",
      " Bening - Min: 0.01938, Max: 0.2239, Mean: 0.08, Std Dev: 0.03\n",
      " Malignant - Min: 0.04605, Max: 0.3454, Mean: 0.15, Std Dev: 0.05\n",
      "----------------------------------------\n",
      "Column: concavity\n",
      " Bening - Min: 0.0, Max: 0.4108, Mean: 0.05, Std Dev: 0.04\n",
      " Malignant - Min: 0.02398, Max: 0.4268, Mean: 0.16, Std Dev: 0.07\n",
      "----------------------------------------\n",
      "Column: concave_points\n",
      " Bening - Min: 0.0, Max: 0.08534, Mean: 0.03, Std Dev: 0.02\n",
      " Malignant - Min: 0.02031, Max: 0.2012, Mean: 0.09, Std Dev: 0.03\n",
      "----------------------------------------\n",
      "Column: symmetry\n",
      " Bening - Min: 0.106, Max: 0.2743, Mean: 0.17, Std Dev: 0.02\n",
      " Malignant - Min: 0.1308, Max: 0.304, Mean: 0.19, Std Dev: 0.03\n",
      "----------------------------------------\n",
      "Column: fractal_dimension\n",
      " Bening - Min: 0.05185, Max: 0.09575, Mean: 0.06, Std Dev: 0.01\n",
      " Malignant - Min: 0.04996, Max: 0.09744, Mean: 0.06, Std Dev: 0.01\n",
      "----------------------------------------\n",
      "Column: radius_SE\n",
      " Bening - Min: 0.1115, Max: 0.8811, Mean: 0.28, Std Dev: 0.11\n",
      " Malignant - Min: 0.1938, Max: 2.873, Mean: 0.61, Std Dev: 0.34\n",
      "----------------------------------------\n",
      "Column: texture_SE\n",
      " Bening - Min: 0.3602, Max: 4.885, Mean: 1.22, Std Dev: 0.59\n",
      " Malignant - Min: 0.3621, Max: 3.568, Mean: 1.21, Std Dev: 0.48\n",
      "----------------------------------------\n",
      "Column: perimeter_SE\n",
      " Bening - Min: 0.757, Max: 5.118, Mean: 2.00, Std Dev: 0.77\n",
      " Malignant - Min: 1.334, Max: 21.98, Mean: 4.32, Std Dev: 2.56\n",
      "----------------------------------------\n",
      "Column: area_SE\n",
      " Bening - Min: 6.802, Max: 77.11, Mean: 21.14, Std Dev: 8.83\n",
      " Malignant - Min: 13.99, Max: 542.2, Mean: 72.67, Std Dev: 61.21\n",
      "----------------------------------------\n",
      "Column: smoothness_SE\n",
      " Bening - Min: 0.001713, Max: 0.02177, Mean: 0.01, Std Dev: 0.00\n",
      " Malignant - Min: 0.002667, Max: 0.03113, Mean: 0.01, Std Dev: 0.00\n",
      "----------------------------------------\n",
      "Column: compactness_SE\n",
      " Bening - Min: 0.002252, Max: 0.1064, Mean: 0.02, Std Dev: 0.02\n",
      " Malignant - Min: 0.008422, Max: 0.1354, Mean: 0.03, Std Dev: 0.02\n",
      "----------------------------------------\n",
      "Column: concavity_SE\n",
      " Bening - Min: 0.0, Max: 0.396, Mean: 0.03, Std Dev: 0.03\n",
      " Malignant - Min: 0.01101, Max: 0.1438, Mean: 0.04, Std Dev: 0.02\n",
      "----------------------------------------\n",
      "Column: concave_points_SE\n",
      " Bening - Min: 0.0, Max: 0.05279, Mean: 0.01, Std Dev: 0.01\n",
      " Malignant - Min: 0.005174, Max: 0.0409, Mean: 0.02, Std Dev: 0.01\n",
      "----------------------------------------\n",
      "Column: symmetry_SE\n",
      " Bening - Min: 0.009539, Max: 0.06146, Mean: 0.02, Std Dev: 0.01\n",
      " Malignant - Min: 0.007882, Max: 0.07895, Mean: 0.02, Std Dev: 0.01\n",
      "----------------------------------------\n",
      "Column: fractal_dimension_SE\n",
      " Bening - Min: 0.0008948, Max: 0.02984, Mean: 0.00, Std Dev: 0.00\n",
      " Malignant - Min: 0.001087, Max: 0.01284, Mean: 0.00, Std Dev: 0.00\n",
      "----------------------------------------\n",
      "Column: radius_MAX\n",
      " Bening - Min: 7.93, Max: 19.82, Mean: 13.38, Std Dev: 1.98\n",
      " Malignant - Min: 12.84, Max: 36.04, Mean: 21.13, Std Dev: 4.27\n",
      "----------------------------------------\n",
      "Column: texture_MAX\n",
      " Bening - Min: 12.02, Max: 41.78, Mean: 23.52, Std Dev: 5.49\n",
      " Malignant - Min: 16.67, Max: 49.54, Mean: 29.32, Std Dev: 5.42\n",
      "----------------------------------------\n",
      "Column: perimeter_MAX\n",
      " Bening - Min: 50.41, Max: 127.1, Mean: 87.01, Std Dev: 13.51\n",
      " Malignant - Min: 85.1, Max: 251.2, Mean: 141.37, Std Dev: 29.39\n",
      "----------------------------------------\n",
      "Column: area_MAX\n",
      " Bening - Min: 185.2, Max: 1210.0, Mean: 558.90, Std Dev: 163.37\n",
      " Malignant - Min: 508.1, Max: 4254.0, Mean: 1422.29, Std Dev: 596.56\n",
      "----------------------------------------\n",
      "Column: smoothness_MAX\n",
      " Bening - Min: 0.07117, Max: 0.2006, Mean: 0.12, Std Dev: 0.02\n",
      " Malignant - Min: 0.08822, Max: 0.2226, Mean: 0.14, Std Dev: 0.02\n",
      "----------------------------------------\n",
      "Column: compactness_MAX\n",
      " Bening - Min: 0.02729, Max: 0.5849, Mean: 0.18, Std Dev: 0.09\n",
      " Malignant - Min: 0.05131, Max: 1.058, Mean: 0.37, Std Dev: 0.17\n",
      "----------------------------------------\n",
      "Column: concavity_MAX\n",
      " Bening - Min: 0.0, Max: 1.252, Mean: 0.17, Std Dev: 0.14\n",
      " Malignant - Min: 0.02398, Max: 1.17, Mean: 0.45, Std Dev: 0.18\n",
      "----------------------------------------\n",
      "Column: concave_points_MAX\n",
      " Bening - Min: 0.0, Max: 0.175, Mean: 0.07, Std Dev: 0.04\n",
      " Malignant - Min: 0.02899, Max: 0.291, Mean: 0.18, Std Dev: 0.05\n",
      "----------------------------------------\n",
      "Column: symmetry_MAX\n",
      " Bening - Min: 0.1566, Max: 0.4228, Mean: 0.27, Std Dev: 0.04\n",
      " Malignant - Min: 0.1565, Max: 0.6638, Mean: 0.32, Std Dev: 0.07\n",
      "----------------------------------------\n",
      "Column: fractal_dimension_MAX\n",
      " Bening - Min: 0.05521, Max: 0.1486, Mean: 0.08, Std Dev: 0.01\n",
      " Malignant - Min: 0.05504, Max: 0.2075, Mean: 0.09, Std Dev: 0.02\n"
     ]
    }
   ],
   "source": [
    "for i in benignDF[cols[2:]]:\n",
    "    print('-'*40)\n",
    "    print('Column: {}'.format(i))\n",
    "    print(' Bening - Min: {}, Max: {}, Mean: {:.02f}, Std Dev: {:.02f}'.format(min(benignDF[i]), max(benignDF[i]), sum(benignDF[i])/len(benignDF[i]), np.std(benignDF[i])))\n",
    "    print(' Malignant - Min: {}, Max: {}, Mean: {:.02f}, Std Dev: {:.02f}'.format(min(malignantDF[i]), max(malignantDF[i]), sum(malignantDF[i])/len(malignantDF[i]), np.std(malignantDF[i])))"
   ]
  },
  {
   "cell_type": "code",
   "execution_count": 37,
   "metadata": {},
   "outputs": [],
   "source": [
    "fig, ax = plt.subplots(6, 5, figsize = (50, 50))\n",
    "colGraphs = cols[2:]\n",
    "colGraphs = colGraphs[:10] + colGraphs[20:] + colGraphs[10:20]\n",
    "\n",
    "counter = 0\n",
    "for i in colGraphs:\n",
    "    beningHist, benignBins = np.histogram(benignDF[i], bins=20)\n",
    "    maligHist, maligBins = np.histogram(malignantDF[i], bins=20)\n",
    "    ax[int(counter / 5), (counter % 5)].hist(benignDF[i], bins = benignBins, alpha = 0.75)\n",
    "    ax[int(counter / 5), (counter % 5)].hist(malignantDF[i], bins = maligBins, alpha = 0.75, color = 'purple')\n",
    "    ax[int(counter / 5), (counter % 5)].set_title(i)\n",
    "    ax[int(counter / 5), (counter % 5)].set_ylabel('Frequency')\n",
    "    ax[int(counter / 5), (counter % 5)].set_xlabel('Range')\n",
    "    counter += 1\n",
    "plt.title('Feature Distribution Accross All Patients Seperated By Diagnosis ')\n",
    "plt.show()"
   ]
  }
 ],
 "metadata": {
  "kernelspec": {
   "display_name": "Python 3.9.7 ('base')",
   "language": "python",
   "name": "python3"
  },
  "language_info": {
   "codemirror_mode": {
    "name": "ipython",
    "version": 3
   },
   "file_extension": ".py",
   "mimetype": "text/x-python",
   "name": "python",
   "nbconvert_exporter": "python",
   "pygments_lexer": "ipython3",
   "version": "3.9.7"
  },
  "orig_nbformat": 4,
  "vscode": {
   "interpreter": {
    "hash": "a21a4d8430ca198249bdb796151de090f5777c48c0e324da81ff190d429db2a2"
   }
  }
 },
 "nbformat": 4,
 "nbformat_minor": 2
}

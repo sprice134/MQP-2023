{
 "cells": [
  {
   "cell_type": "code",
   "execution_count": 13,
   "metadata": {},
   "outputs": [],
   "source": [
    "import matplotlib\n",
    "import pandas as pd\n",
    "import numpy as np\n",
    "import seaborn as sns\n",
    "import matplotlib.pyplot as plt\n",
    "from sklearn.preprocessing import StandardScaler\n",
    "from sklearn.decomposition import PCA"
   ]
  },
  {
   "cell_type": "code",
   "execution_count": 20,
   "metadata": {},
   "outputs": [
    {
     "name": "stdout",
     "output_type": "stream",
     "text": [
      "(569, 32)\n",
      "           ID  Diagnosis  radius  texture  perimeter    area  smoothness  \\\n",
      "0      842302          1   17.99    10.38     122.80  1001.0     0.11840   \n",
      "1      842517          1   20.57    17.77     132.90  1326.0     0.08474   \n",
      "2    84300903          1   19.69    21.25     130.00  1203.0     0.10960   \n",
      "3    84348301          1   11.42    20.38      77.58   386.1     0.14250   \n",
      "4    84358402          1   20.29    14.34     135.10  1297.0     0.10030   \n",
      "..        ...        ...     ...      ...        ...     ...         ...   \n",
      "564    926424          1   21.56    22.39     142.00  1479.0     0.11100   \n",
      "565    926682          1   20.13    28.25     131.20  1261.0     0.09780   \n",
      "566    926954          1   16.60    28.08     108.30   858.1     0.08455   \n",
      "567    927241          1   20.60    29.33     140.10  1265.0     0.11780   \n",
      "568     92751          0    7.76    24.54      47.92   181.0     0.05263   \n",
      "\n",
      "     compactness  concavity  concave_points  ...  radius_MAX  texture_MAX  \\\n",
      "0        0.27760    0.30010         0.14710  ...      25.380        17.33   \n",
      "1        0.07864    0.08690         0.07017  ...      24.990        23.41   \n",
      "2        0.15990    0.19740         0.12790  ...      23.570        25.53   \n",
      "3        0.28390    0.24140         0.10520  ...      14.910        26.50   \n",
      "4        0.13280    0.19800         0.10430  ...      22.540        16.67   \n",
      "..           ...        ...             ...  ...         ...          ...   \n",
      "564      0.11590    0.24390         0.13890  ...      25.450        26.40   \n",
      "565      0.10340    0.14400         0.09791  ...      23.690        38.25   \n",
      "566      0.10230    0.09251         0.05302  ...      18.980        34.12   \n",
      "567      0.27700    0.35140         0.15200  ...      25.740        39.42   \n",
      "568      0.04362    0.00000         0.00000  ...       9.456        30.37   \n",
      "\n",
      "     perimeter_MAX  area_MAX  smoothness_MAX  compactness_MAX  concavity_MAX  \\\n",
      "0           184.60    2019.0         0.16220          0.66560         0.7119   \n",
      "1           158.80    1956.0         0.12380          0.18660         0.2416   \n",
      "2           152.50    1709.0         0.14440          0.42450         0.4504   \n",
      "3            98.87     567.7         0.20980          0.86630         0.6869   \n",
      "4           152.20    1575.0         0.13740          0.20500         0.4000   \n",
      "..             ...       ...             ...              ...            ...   \n",
      "564         166.10    2027.0         0.14100          0.21130         0.4107   \n",
      "565         155.00    1731.0         0.11660          0.19220         0.3215   \n",
      "566         126.70    1124.0         0.11390          0.30940         0.3403   \n",
      "567         184.60    1821.0         0.16500          0.86810         0.9387   \n",
      "568          59.16     268.6         0.08996          0.06444         0.0000   \n",
      "\n",
      "     concave_points_MAX  symmetry_MAX  fractal_dimension_MAX  \n",
      "0                0.2654        0.4601                0.11890  \n",
      "1                0.1860        0.2750                0.08902  \n",
      "2                0.2430        0.3613                0.08758  \n",
      "3                0.2575        0.6638                0.17300  \n",
      "4                0.1625        0.2364                0.07678  \n",
      "..                  ...           ...                    ...  \n",
      "564              0.2216        0.2060                0.07115  \n",
      "565              0.1628        0.2572                0.06637  \n",
      "566              0.1418        0.2218                0.07820  \n",
      "567              0.2650        0.4087                0.12400  \n",
      "568              0.0000        0.2871                0.07039  \n",
      "\n",
      "[569 rows x 32 columns]\n"
     ]
    }
   ],
   "source": [
    "cols = ['ID', 'Diagnosis', 'radius', 'texture', 'perimeter', 'area', 'smoothness', 'compactness', 'concavity', 'concave_points', 'symmetry', 'fractal_dimension',\n",
    "        'radius_SE', 'texture_SE', 'perimeter_SE', 'area_SE', 'smoothness_SE', 'compactness_SE', 'concavity_SE', 'concave_points_SE', 'symmetry_SE', 'fractal_dimension_SE',\n",
    "        'radius_MAX', 'texture_MAX', 'perimeter_MAX', 'area_MAX', 'smoothness_MAX', 'compactness_MAX', 'concavity_MAX', 'concave_points_MAX', 'symmetry_MAX', 'fractal_dimension_MAX']\n",
    "df = pd.read_csv('../../Wisconsin_Database/wdbc.data', header=None)\n",
    "df.columns = cols\n",
    "df['Diagnosis'] = df['Diagnosis'].map(\n",
    "                   {'M':1 ,'B':0})\n",
    "print(df.shape)\n",
    "print(df)"
   ]
  },
  {
   "cell_type": "code",
   "execution_count": 11,
   "metadata": {},
   "outputs": [
    {
     "name": "stdout",
     "output_type": "stream",
     "text": [
      "       radius   texture  perimeter      area  smoothness  compactness  \\\n",
      "0    1.097064 -2.073335   1.269934  0.984375    1.568466     3.283515   \n",
      "1    1.829821 -0.353632   1.685955  1.908708   -0.826962    -0.487072   \n",
      "2    1.579888  0.456187   1.566503  1.558884    0.942210     1.052926   \n",
      "3   -0.768909  0.253732  -0.592687 -0.764464    3.283553     3.402909   \n",
      "4    1.750297 -1.151816   1.776573  1.826229    0.280372     0.539340   \n",
      "..        ...       ...        ...       ...         ...          ...   \n",
      "564  2.110995  0.721473   2.060786  2.343856    1.041842     0.219060   \n",
      "565  1.704854  2.085134   1.615931  1.723842    0.102458    -0.017833   \n",
      "566  0.702284  2.045574   0.672676  0.577953   -0.840484    -0.038680   \n",
      "567  1.838341  2.336457   1.982524  1.735218    1.525767     3.272144   \n",
      "568 -1.808401  1.221792  -1.814389 -1.347789   -3.112085    -1.150752   \n",
      "\n",
      "     concavity  concave_points  symmetry  fractal_dimension  ...  radius_MAX  \\\n",
      "0     2.652874        2.532475  2.217515           2.255747  ...    1.886690   \n",
      "1    -0.023846        0.548144  0.001392          -0.868652  ...    1.805927   \n",
      "2     1.363478        2.037231  0.939685          -0.398008  ...    1.511870   \n",
      "3     1.915897        1.451707  2.867383           4.910919  ...   -0.281464   \n",
      "4     1.371011        1.428493 -0.009560          -0.562450  ...    1.298575   \n",
      "..         ...             ...       ...                ...  ...         ...   \n",
      "564   1.947285        2.320965 -0.312589          -0.931027  ...    1.901185   \n",
      "565   0.693043        1.263669 -0.217664          -1.058611  ...    1.536720   \n",
      "566   0.046588        0.105777 -0.809117          -0.895587  ...    0.561361   \n",
      "567   3.296944        2.658866  2.137194           1.043695  ...    1.961239   \n",
      "568  -1.114873       -1.261820 -0.820070          -0.561032  ...   -1.410893   \n",
      "\n",
      "     texture_MAX  perimeter_MAX  area_MAX  smoothness_MAX  compactness_MAX  \\\n",
      "0      -1.359293       2.303601  2.001237        1.307686         2.616665   \n",
      "1      -0.369203       1.535126  1.890489       -0.375612        -0.430444   \n",
      "2      -0.023974       1.347475  1.456285        0.527407         1.082932   \n",
      "3       0.133984      -0.249939 -0.550021        3.394275         3.893397   \n",
      "4      -1.466770       1.338539  1.220724        0.220556        -0.313395   \n",
      "..           ...            ...       ...             ...              ...   \n",
      "564     0.117700       1.752563  2.015301        0.378365        -0.273318   \n",
      "565     2.047399       1.421940  1.494959       -0.691230        -0.394820   \n",
      "566     1.374854       0.579001  0.427906       -0.809587         0.350735   \n",
      "567     2.237926       2.303601  1.653171        1.430427         3.904848   \n",
      "568     0.764190      -1.432735 -1.075813       -1.859019        -1.207552   \n",
      "\n",
      "     concavity_MAX  concave_points_MAX  symmetry_MAX  fractal_dimension_MAX  \n",
      "0         2.109526            2.296076      2.750622               1.937015  \n",
      "1        -0.146749            1.087084     -0.243890               0.281190  \n",
      "2         0.854974            1.955000      1.152255               0.201391  \n",
      "3         1.989588            2.175786      6.046041               4.935010  \n",
      "4         0.613179            0.729259     -0.868353              -0.397100  \n",
      "..             ...                 ...           ...                    ...  \n",
      "564       0.664512            1.629151     -1.360158              -0.709091  \n",
      "565       0.236573            0.733827     -0.531855              -0.973978  \n",
      "566       0.326767            0.414069     -1.104549              -0.318409  \n",
      "567       3.197605            2.289985      1.919083               2.219635  \n",
      "568      -1.305831           -1.745063     -0.048138              -0.751207  \n",
      "\n",
      "[569 rows x 30 columns]\n"
     ]
    }
   ],
   "source": [
    "X = df.to_numpy()[:, 2:]\n",
    "x = StandardScaler().fit_transform(X)\n",
    "normDF = pd.DataFrame(x,columns=cols[2:])\n",
    "print(normDF)"
   ]
  },
  {
   "cell_type": "code",
   "execution_count": 17,
   "metadata": {},
   "outputs": [
    {
     "name": "stdout",
     "output_type": "stream",
     "text": [
      "     principal component 1  principal component 2\n",
      "0                 9.192837               1.948583\n",
      "1                 2.387802              -3.768172\n",
      "2                 5.733896              -1.075174\n",
      "3                 7.122953              10.275589\n",
      "4                 3.935302              -1.948072\n",
      "..                     ...                    ...\n",
      "564               6.439315              -3.576817\n",
      "565               3.793382              -3.584048\n",
      "566               1.256179              -1.902297\n",
      "567              10.374794               1.672010\n",
      "568              -5.475243              -0.670637\n",
      "\n",
      "[569 rows x 2 columns]\n",
      "Explained variation per principal component: [0.44272026 0.18971182]\n"
     ]
    }
   ],
   "source": [
    "pca_breast = PCA(n_components=2)\n",
    "principalComponents_breast = pca_breast.fit_transform(x)\n",
    "\n",
    "principal_breast_Df = pd.DataFrame(data = principalComponents_breast\n",
    "             , columns = ['principal component 1', 'principal component 2'])\n",
    "print(principal_breast_Df)\n",
    "print('Explained variation per principal component: {}'.format(pca_breast.explained_variance_ratio_))\n"
   ]
  },
  {
   "cell_type": "code",
   "execution_count": 21,
   "metadata": {},
   "outputs": [
    {
     "data": {
      "text/plain": [
       "<matplotlib.legend.Legend at 0x7f9fdace3880>"
      ]
     },
     "execution_count": 21,
     "metadata": {},
     "output_type": "execute_result"
    },
    {
     "data": {
      "text/plain": [
       "<Figure size 432x288 with 0 Axes>"
      ]
     },
     "metadata": {},
     "output_type": "display_data"
    },
    {
     "data": {
      "image/png": "[encoded data removed]",
      "text/plain": [
       "<Figure size 720x720 with 1 Axes>"
      ]
     },
     "metadata": {
      "needs_background": "light"
     },
     "output_type": "display_data"
    }
   ],
   "source": [
    "plt.figure()\n",
    "plt.figure(figsize=(10,10))\n",
    "plt.xticks(fontsize=12)\n",
    "plt.yticks(fontsize=14)\n",
    "plt.xlabel('Principal Component - 1',fontsize=20)\n",
    "plt.ylabel('Principal Component - 2',fontsize=20)\n",
    "plt.title(\"Principal Component Analysis of Breast Cancer Dataset\",fontsize=20)\n",
    "targets = ['0', '1']\n",
    "colors = ['r', 'g']\n",
    "'''for target, color in zip(targets,colors):\n",
    "    indicesToKeep = df['Diagnosis'] == target\n",
    "    plt.scatter(principal_breast_Df.loc[indicesToKeep, 'principal component 1']\n",
    "               , principal_breast_Df.loc[indicesToKeep, 'principal component 2'], c = color, s = 50)\n",
    "'''\n",
    "plt.legend(targets,prop={'size': 15})"
   ]
  }
 ],
 "metadata": {
  "kernelspec": {
   "display_name": "Python 3.9.7 ('base')",
   "language": "python",
   "name": "python3"
  },
  "language_info": {
   "codemirror_mode": {
    "name": "ipython",
    "version": 3
   },
   "file_extension": ".py",
   "mimetype": "text/x-python",
   "name": "python",
   "nbconvert_exporter": "python",
   "pygments_lexer": "ipython3",
   "version": "3.9.7"
  },
  "orig_nbformat": 4,
  "vscode": {
   "interpreter": {
    "hash": "a21a4d8430ca198249bdb796151de090f5777c48c0e324da81ff190d429db2a2"
   }
  }
 },
 "nbformat": 4,
 "nbformat_minor": 2
}

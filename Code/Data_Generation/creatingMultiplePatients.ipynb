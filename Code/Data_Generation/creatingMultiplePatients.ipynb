{
 "cells": [
  {
   "cell_type": "code",
   "execution_count": 29,
   "metadata": {},
   "outputs": [],
   "source": [
    "import matplotlib\n",
    "import pandas as pd\n",
    "import numpy as np\n",
    "import seaborn as sn\n",
    "import matplotlib.pyplot as plt\n",
    "import random\n",
    "from turtle import width"
   ]
  },
  {
   "cell_type": "code",
   "execution_count": 30,
   "metadata": {},
   "outputs": [
    {
     "name": "stdout",
     "output_type": "stream",
     "text": [
      "(569, 32)\n"
     ]
    }
   ],
   "source": [
    "cols = ['ID', 'Diagnosis', 'radius', 'texture', 'perimeter', 'area', 'smoothness', 'compactness', 'concavity', 'concave_points', 'symmetry', 'fractal_dimension',\n",
    "        'radius_SE', 'texture_SE', 'perimeter_SE', 'area_SE', 'smoothness_SE', 'compactness_SE', 'concavity_SE', 'concave_points_SE', 'symmetry_SE', 'fractal_dimension_SE',\n",
    "        'radius_MAX', 'texture_MAX', 'perimeter_MAX', 'area_MAX', 'smoothness_MAX', 'compactness_MAX', 'concavity_MAX', 'concave_points_MAX', 'symmetry_MAX', 'fractal_dimension_MAX']\n",
    "df = pd.read_csv('../../Wisconsin_Database/wdbc.data', header=None)\n",
    "df.columns = cols\n",
    "df['Diagnosis'] = df['Diagnosis'].map(\n",
    "                   {'M':1 ,'B':0})\n",
    "print(df.shape)"
   ]
  },
  {
   "cell_type": "code",
   "execution_count": 31,
   "metadata": {},
   "outputs": [],
   "source": [
    "arr2D = df.to_numpy()\n",
    "columnIndex = 1\n",
    "sortedArr = arr2D[arr2D[:,columnIndex].argsort()]\n",
    "numZeros = list(sortedArr[:, 1]).count(0)\n",
    "benignDF, malignantDF = pd.DataFrame(sortedArr[0:numZeros]), pd.DataFrame(sortedArr[numZeros:])\n",
    "benignDF.columns = cols\n",
    "malignantDF.columns = cols"
   ]
  },
  {
   "cell_type": "code",
   "execution_count": 32,
   "metadata": {},
   "outputs": [],
   "source": [
    "def generateNewFeatureValMultiple(df, col, numberOfBins, numPatients):\n",
    "    hist, bins = np.histogram(df[col], bins=numberOfBins)\n",
    "    bin_midpoints = bins[:-1] + np.diff(bins)/2\n",
    "    cdf = np.cumsum(hist)\n",
    "    cdf = cdf / cdf[-1]\n",
    "    values = np.random.rand(numPatients)\n",
    "    value_bins = np.searchsorted(cdf, values)\n",
    "    random_from_cdf = bin_midpoints[value_bins]\n",
    "    return list(random_from_cdf)\n",
    "\n",
    "\n",
    "benignPatients = []\n",
    "for i in benignDF.columns[1:]:\n",
    "    benignPatients.append(generateNewFeatureValMultiple(benignDF, i, 25, 10000))\n",
    "beningPatients = np.array(benignPatients).T\n",
    "malignangPatients = []\n",
    "for i in malignantDF.columns[1:]:\n",
    "    malignangPatients.append(generateNewFeatureValMultiple(malignantDF, i, 25, 10000))\n",
    "malignangPatients = np.array(malignangPatients).T\n",
    "\n"
   ]
  },
  {
   "cell_type": "code",
   "execution_count": 33,
   "metadata": {},
   "outputs": [
    {
     "name": "stdout",
     "output_type": "stream",
     "text": [
      "       Diagnosis    radius  texture  perimeter      area  smoothness  \\\n",
      "0            0.0  13.71978   19.832    87.6922   228.360    0.108015   \n",
      "1            0.0  16.32834   13.084    90.5246   432.024    0.125738   \n",
      "2            0.0  12.85026   18.868    73.5302   771.464    0.085861   \n",
      "3            0.0  12.85026   28.508    93.3570   533.856    0.103584   \n",
      "4            0.0  11.98074   20.796    82.0274   398.080    0.103584   \n",
      "...          ...       ...      ...        ...       ...         ...   \n",
      "19995        1.0  19.53000   20.206    97.5520  1088.996    0.103526   \n",
      "19996        1.0  15.41160   17.894   116.2080   746.692    0.095007   \n",
      "19997        1.0  19.53000   19.050   130.2000   746.692    0.089328   \n",
      "19998        1.0  18.15720   16.738   144.1920  1260.148    0.112045   \n",
      "19999        1.0  18.84360   20.206   153.5200   661.116    0.089328   \n",
      "\n",
      "       compactness  concavity  concave_points  symmetry  ...  radius_MAX  \\\n",
      "0         0.113459   0.024648        0.008534  0.196882  ...     14.8262   \n",
      "1         0.056194   0.024648        0.011948  0.163222  ...     11.0214   \n",
      "2         0.048013   0.057512        0.025602  0.183418  ...     12.9238   \n",
      "3         0.064374   0.008216        0.029016  0.183418  ...     15.7774   \n",
      "4         0.048013   0.024648        0.025602  0.163222  ...     11.0214   \n",
      "...            ...        ...             ...       ...  ...         ...   \n",
      "19995     0.052037   0.144826        0.052870  0.161976  ...     17.9440   \n",
      "19996     0.183751   0.112600        0.031163  0.189688  ...     21.6560   \n",
      "19997     0.111907   0.112600        0.081813  0.210472  ...     16.0880   \n",
      "19998     0.064011   0.048149        0.096284  0.134264  ...     20.7280   \n",
      "19999     0.291517   0.128713        0.052870  0.182760  ...     18.8720   \n",
      "\n",
      "       texture_MAX  perimeter_MAX  area_MAX  smoothness_MAX  compactness_MAX  \\\n",
      "0          18.5672        79.5522   205.696        0.146239         0.127660   \n",
      "1          17.3768        82.6198   369.664        0.177303         0.127660   \n",
      "2          22.1384       110.2282   533.632        0.135885         0.261486   \n",
      "3          29.2808        85.6874   492.640        0.146239         0.083051   \n",
      "4          23.3288        73.4170   779.584        0.115176         0.060747   \n",
      "...            ...            ...       ...             ...              ...   \n",
      "19995      26.5310       128.2860  2680.722        0.112408         0.474120   \n",
      "19996      30.4754       148.2180  1332.198        0.155410         0.192247   \n",
      "19997      31.7902       114.9980  1781.706        0.133909         0.393585   \n",
      "19998      27.8458       214.6580  1482.034        0.139284         0.313049   \n",
      "19999      27.8458       148.2180   583.018        0.187661         0.192247   \n",
      "\n",
      "       concavity_MAX  concave_points_MAX  symmetry_MAX  fractal_dimension_MAX  \n",
      "0           0.025040            0.080500      0.257756               0.075756  \n",
      "1           0.275440            0.073500      0.215164               0.083227  \n",
      "2           0.025040            0.038500      0.268404               0.090698  \n",
      "3           0.025040            0.157500      0.279052               0.072020  \n",
      "4           0.075120            0.094500      0.321644               0.068285  \n",
      "...              ...                 ...           ...                    ...  \n",
      "19995       0.230264            0.149515      0.288398               0.100778  \n",
      "19996       0.688672            0.065671      0.349274               0.058089  \n",
      "19997       0.367786            0.191436      0.491318               0.100778  \n",
      "19998       0.276104            0.118073      0.349274               0.082483  \n",
      "19999       0.367786            0.191436      0.288398               0.112975  \n",
      "\n",
      "[20000 rows x 31 columns]\n"
     ]
    }
   ],
   "source": [
    "jointArray = np.vstack((beningPatients,malignangPatients))\n",
    "finalDataset = pd.DataFrame(jointArray, columns = benignDF.columns[1:])\n",
    "print(finalDataset)\n",
    "finalDataset.to_csv('../../Wisconsin_Database/augmented_wbdc_20000.data', index_label=False)"
   ]
  }
 ],
 "metadata": {
  "kernelspec": {
   "display_name": "Python 3.9.7 ('base')",
   "language": "python",
   "name": "python3"
  },
  "language_info": {
   "codemirror_mode": {
    "name": "ipython",
    "version": 3
   },
   "file_extension": ".py",
   "mimetype": "text/x-python",
   "name": "python",
   "nbconvert_exporter": "python",
   "pygments_lexer": "ipython3",
   "version": "3.9.7"
  },
  "orig_nbformat": 4,
  "vscode": {
   "interpreter": {
    "hash": "a21a4d8430ca198249bdb796151de090f5777c48c0e324da81ff190d429db2a2"
   }
  }
 },
 "nbformat": 4,
 "nbformat_minor": 2
}

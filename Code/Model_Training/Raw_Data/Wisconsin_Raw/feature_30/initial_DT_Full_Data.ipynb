{
 "cells": [
  {
   "cell_type": "code",
   "execution_count": 16,
   "metadata": {},
   "outputs": [],
   "source": [
    "import matplotlib\n",
    "import pandas as pd\n",
    "import numpy as np\n",
    "import seaborn as sn\n",
    "import matplotlib.pyplot as plt\n",
    "from sklearn.model_selection import train_test_split\n",
    "from sklearn.preprocessing import StandardScaler\n",
    "from sklearn.tree import DecisionTreeClassifier\n",
    "from sklearn.metrics import mean_absolute_error, mean_squared_error\n",
    "from sklearn.metrics import confusion_matrix\n",
    "\n"
   ]
  },
  {
   "cell_type": "code",
   "execution_count": 17,
   "metadata": {},
   "outputs": [
    {
     "name": "stdout",
     "output_type": "stream",
     "text": [
      "(569, 32)\n"
     ]
    }
   ],
   "source": [
    "cols = ['ID', 'Diagnosis', 'radius', 'texture', 'perimeter', 'area', 'smoothness', 'compactness', 'concavity', 'concave_points', 'symmetry', 'fractal_dimension',\n",
    "        'radius_SE', 'texture_SE', 'perimeter_SE', 'area_SE', 'smoothness_SE', 'compactness_SE', 'concavity_SE', 'concave_points_SE', 'symmetry_SE', 'fractal_dimension_SE',\n",
    "        'radius_MAX', 'texture_MAX', 'perimeter_MAX', 'area_MAX', 'smoothness_MAX', 'compactness_MAX', 'concavity_MAX', 'concave_points_MAX', 'symmetry_MAX', 'fractal_dimension_MAX']\n",
    "df = pd.read_csv('../../../Wisconsin_Database/wdbc.data', header=None)\n",
    "df.columns = cols\n",
    "df['Diagnosis'] = df['Diagnosis'].map(\n",
    "                   {'M':True,'B':False})\n",
    "print(df.shape)"
   ]
  },
  {
   "cell_type": "code",
   "execution_count": 18,
   "metadata": {},
   "outputs": [
    {
     "name": "stdout",
     "output_type": "stream",
     "text": [
      "X_train: (56, 30), X_test: (513, 30)\n",
      "Y_train: (56,), Y_test: (513,)\n"
     ]
    }
   ],
   "source": [
    "X = df[cols[2:]]\n",
    "y = df[cols[1]]\n",
    "\n",
    "SEED = 42\n",
    "X_train, X_test, y_train, y_test = train_test_split(X, y, test_size=0.90, random_state=SEED)\n",
    "print('X_train: {}, X_test: {}'.format(str(X_train.shape), str(X_test.shape)))\n",
    "print('Y_train: {}, Y_test: {}'.format(str(y_train.shape), str(y_test.shape)))\n",
    "scaler = StandardScaler()\n",
    "scaler.fit(X_train)\n",
    "# Scale both X_train and X_test\n",
    "#X_train = scaler.transform(X_train)\n",
    "#X_test = scaler.transform(X_test)\n",
    "\n",
    "col_names=df.columns[2:]\n",
    "scaled_df = pd.DataFrame(X_train, columns=col_names)\n",
    "#scaled_df.describe().T"
   ]
  },
  {
   "cell_type": "code",
   "execution_count": 19,
   "metadata": {},
   "outputs": [
    {
     "name": "stdout",
     "output_type": "stream",
     "text": [
      "389     True\n",
      "1       True\n",
      "529    False\n",
      "80     False\n",
      "205     True\n",
      "34      True\n",
      "508    False\n",
      "427    False\n",
      "454    False\n",
      "366     True\n",
      "91      True\n",
      "339     True\n",
      "345    False\n",
      "241    False\n",
      "13      True\n",
      "315    False\n",
      "387    False\n",
      "273    False\n",
      "166    False\n",
      "563     True\n",
      "484    False\n",
      "554    False\n",
      "504    False\n",
      "243    False\n",
      "189    False\n",
      "475    False\n",
      "510    False\n",
      "58     False\n",
      "474    False\n",
      "252     True\n",
      "21     False\n",
      "313    False\n",
      "459    False\n",
      "160    False\n",
      "276    False\n",
      "191    False\n",
      "385     True\n",
      "413    False\n",
      "491    False\n",
      "343     True\n",
      "308    False\n",
      "130    False\n",
      "99      True\n",
      "372     True\n",
      "87      True\n",
      "458    False\n",
      "330     True\n",
      "214     True\n",
      "466    False\n",
      "121     True\n",
      "20     False\n",
      "71     False\n",
      "106    False\n",
      "270    False\n",
      "435     True\n",
      "102    False\n",
      "Name: Diagnosis, dtype: bool\n"
     ]
    }
   ],
   "source": [
    "print(y_train)"
   ]
  },
  {
   "cell_type": "code",
   "execution_count": 20,
   "metadata": {},
   "outputs": [],
   "source": [
    "clf = DecisionTreeClassifier()\n",
    "\n",
    "# Train Decision Tree Classifer\n",
    "clf = clf.fit(X_train,y_train)\n",
    "\n",
    "#Predict the response for test dataset\n",
    "y_pred = clf.predict(X_test)\n"
   ]
  },
  {
   "cell_type": "code",
   "execution_count": 21,
   "metadata": {},
   "outputs": [
    {
     "data": {
      "image/png": "[encoded data removed]",
      "text/plain": [
       "<Figure size 432x288 with 2 Axes>"
      ]
     },
     "metadata": {
      "needs_background": "light"
     },
     "output_type": "display_data"
    }
   ],
   "source": [
    "cm = confusion_matrix(y_test, y_pred)\n",
    "tn, fp, fn, tp = cm.ravel()\n",
    "\n",
    "data = np.array([[tp, fp],[fn, tn]])\n",
    "group_names = ['True Positive', 'False Positive', 'False Negative', 'True Negative']\n",
    "group_counts = [\"{0:0.0f}\".format(value) for value in\n",
    "                data.flatten()]\n",
    "group_percentages = [\"{0:.2%}\".format(value) for value in\n",
    "                     data.flatten()/np.sum(data)]\n",
    "labels = [f\"{v1}\\n{v2}\\n{v3}\" for v1, v2, v3 in\n",
    "          zip(group_names,group_counts,group_percentages)]\n",
    "labels = np.asarray(labels).reshape(2,2)\n",
    "\n",
    "\n",
    "labels = np.asarray(labels).reshape(2,2)\n",
    "sn.heatmap(data, annot=labels, fmt='', cmap='Blues')\n",
    "plt.title(\"Confusion Matrix of DT on Raw Data\")\n",
    "plt.show()\n"
   ]
  },
  {
   "cell_type": "code",
   "execution_count": 22,
   "metadata": {},
   "outputs": [
    {
     "name": "stdout",
     "output_type": "stream",
     "text": [
      "469\n",
      "513\n",
      "0.9142300194931774\n"
     ]
    }
   ],
   "source": [
    "print(sum(y_test.values == y_pred))\n",
    "print(len(y_pred))\n",
    "print(sum(y_test.values == y_pred) / len(y_pred))\n"
   ]
  }
 ],
 "metadata": {
  "kernelspec": {
   "display_name": "Python 3.9.7 ('base')",
   "language": "python",
   "name": "python3"
  },
  "language_info": {
   "codemirror_mode": {
    "name": "ipython",
    "version": 3
   },
   "file_extension": ".py",
   "mimetype": "text/x-python",
   "name": "python",
   "nbconvert_exporter": "python",
   "pygments_lexer": "ipython3",
   "version": "3.9.7"
  },
  "orig_nbformat": 4,
  "vscode": {
   "interpreter": {
    "hash": "a21a4d8430ca198249bdb796151de090f5777c48c0e324da81ff190d429db2a2"
   }
  }
 },
 "nbformat": 4,
 "nbformat_minor": 2
}

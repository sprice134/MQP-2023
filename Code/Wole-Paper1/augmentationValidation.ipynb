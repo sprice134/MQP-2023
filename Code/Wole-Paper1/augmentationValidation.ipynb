{
 "cells": [
  {
   "cell_type": "code",
   "execution_count": 35,
   "metadata": {},
   "outputs": [],
   "source": [
    "import matplotlib\n",
    "import matplotlib\n",
    "import pandas as pd\n",
    "import numpy as np\n",
    "import seaborn as sn\n",
    "import matplotlib.pyplot as plt\n",
    "from sklearn.model_selection import train_test_split\n",
    "from sklearn.preprocessing import StandardScaler\n",
    "from sklearn.linear_model import LogisticRegression\n",
    "from sklearn.tree import DecisionTreeClassifier\n",
    "from sklearn.neighbors import KNeighborsRegressor\n",
    "from sklearn.naive_bayes import GaussianNB\n",
    "from sklearn.svm import SVC\n",
    "from sklearn.metrics import mean_absolute_error, mean_squared_error\n",
    "from sklearn.metrics import confusion_matrix\n",
    "import warnings #to remove the warnings\n",
    "import random\n",
    "import sys\n",
    "sys.path.append('../_hepers_')\n",
    "from genNewVals import generateNewFeatureValMultiple\n",
    "from genSynData import generateSyntheticDataset\n",
    "from subsampleData import subsample\n",
    "from models import trainModels\n",
    "warnings.filterwarnings('ignore')\n"
   ]
  },
  {
   "cell_type": "code",
   "execution_count": 36,
   "metadata": {},
   "outputs": [
    {
     "name": "stdout",
     "output_type": "stream",
     "text": [
      "(683, 11)\n",
      "          ID Thickness SizeUniformity ShapeUniformity Adhesion Size  \\\n",
      "0    1000025         5              1               1        1    2   \n",
      "1    1002945         5              4               4        5    7   \n",
      "2    1015425         3              1               1        1    2   \n",
      "3    1016277         6              8               8        1    3   \n",
      "4    1017023         4              1               1        3    2   \n",
      "..       ...       ...            ...             ...      ...  ...   \n",
      "678   776715         3              1               1        1    3   \n",
      "679   841769         2              1               1        1    2   \n",
      "680   888820         5             10              10        3    7   \n",
      "681   897471         4              8               6        4    3   \n",
      "682   897471         4              8               8        5    4   \n",
      "\n",
      "     BareNuclei Bland Chromatin Nucleoli Mitoses Diagnosis  \n",
      "0             1               3        1       1         0  \n",
      "1            10               3        2       1         0  \n",
      "2             2               3        1       1         0  \n",
      "3             4               3        7       1         0  \n",
      "4             1               3        1       1         0  \n",
      "..          ...             ...      ...     ...       ...  \n",
      "678           2               1        1       1         0  \n",
      "679           1               1        1       1         0  \n",
      "680           3               8       10       2         1  \n",
      "681           4              10        6       1         1  \n",
      "682           5              10        4       1         1  \n",
      "\n",
      "[683 rows x 11 columns]\n"
     ]
    }
   ],
   "source": [
    "raw_df = pd.read_csv('../../Wisconsin_Database/breast-cancer-wisconsin.data', header=None)\n",
    "cols = ['ID', 'Thickness', 'SizeUniformity', 'ShapeUniformity', 'Adhesion', 'Size', 'BareNuclei', 'Bland Chromatin', 'Nucleoli', 'Mitoses', 'Diagnosis']\n",
    "raw_df.columns = cols\n",
    "raw_df['Diagnosis'] = raw_df['Diagnosis'].map(\n",
    "                   {2:0,4:1})\n",
    "\n",
    "temp = []\n",
    "for index, row in raw_df.iterrows():\n",
    "    if '?' not in row.values:\n",
    "        temp.append(row)\n",
    "        \n",
    "df = pd.DataFrame(np.array(temp), columns=cols)\n",
    "df['BareNuclei'] = df['BareNuclei'].astype(np.int)\n",
    "print(df.shape)\n",
    "print(df)\n",
    "\n",
    "for i in df:\n",
    "    df[i] = df[i].astype(np.int)\n"
   ]
  },
  {
   "cell_type": "code",
   "execution_count": 37,
   "metadata": {},
   "outputs": [
    {
     "name": "stdout",
     "output_type": "stream",
     "text": [
      "Iteration: 0\n",
      "Iteration: 1\n",
      "Iteration: 2\n",
      "Iteration: 3\n",
      "Iteration: 4\n",
      "Iteration: 5\n",
      "Iteration: 6\n",
      "Iteration: 7\n",
      "Iteration: 8\n",
      "Iteration: 9\n",
      "KNN - Min: 0.9124087591240876, Max: 0.9708029197080292, Avg: 0.9467153284671532\n",
      "NB  - Min: 0.9343065693430657, Max: 0.9781021897810219, Avg: 0.9605839416058396\n",
      "LR  - Min: 0.9562043795620438, Max: 0.9854014598540146, Avg: 0.97007299270073\n",
      "SVM - Min: 0.9416058394160584, Max: 0.9854014598540146, Avg: 0.9664233576642337\n",
      "DT  - Min: 0.7445255474452555, Max: 0.8394160583941606, Avg: 0.7795620437956204\n"
     ]
    }
   ],
   "source": [
    "augKnnWBC = []\n",
    "augNbWBC = []\n",
    "augLrWBC = []\n",
    "augSvmWBC = []\n",
    "augDtWBC = []\n",
    "for i in range(10):\n",
    "    X = df[cols[1:-1]]\n",
    "    y = df[cols[-1]]\n",
    "\n",
    "    SEED = 42 + i\n",
    "    X_train, X_test, y_train, y_test = train_test_split(X, y, test_size=0.20, random_state=SEED)\n",
    "    finalDataset = generateSyntheticDataset(X_train, y_train, identical = True)\n",
    "    X_train = finalDataset[finalDataset.columns[:-1]]\n",
    "    y_train = finalDataset[finalDataset.columns[-1]]\n",
    "    #print('Augmented X Train: {}'.format(X_train.shape))\n",
    "    #print('Augmented y_train: {}'.format(y_train.shape))\n",
    "    scaler = StandardScaler()\n",
    "    scaler.fit(X_train)\n",
    "\n",
    "    col_names=df.columns[2:]\n",
    "    scaled_df = pd.DataFrame(X_train, columns=col_names)\n",
    "    scaled_df.describe().T\n",
    "    scores = trainModels(X_train, X_test, y_train, y_test)\n",
    "    augKnnWBC.append(scores[0])\n",
    "    augNbWBC.append(scores[1])\n",
    "    augLrWBC.append(scores[2])\n",
    "    augSvmWBC.append(scores[3])\n",
    "    augDtWBC.append(scores[4])\n",
    "    print('Iteration: {}'.format(i))\n",
    "\n",
    "\n",
    "print('KNN - Min: {}, Max: {}, Avg: {}'.format(min(augKnnWBC), max(augKnnWBC), sum(augKnnWBC)/len(augKnnWBC)))\n",
    "#print('   Best Seed: {}'.format(42 + knnScores.index(max(knnScores))))\n",
    "print('NB  - Min: {}, Max: {}, Avg: {}'.format(min(augNbWBC), max(augNbWBC), sum(augNbWBC)/len(augNbWBC)))\n",
    "#print('   Best Seed: {}'.format(42 + naiveBaysScores.index(max(naiveBaysScores))))\n",
    "print('LR  - Min: {}, Max: {}, Avg: {}'.format(min(augLrWBC), max(augLrWBC), sum(augLrWBC)/len(augLrWBC)))\n",
    "#print('   Best Seed: {}'.format(42 + logisticRegressionScores.index(max(logisticRegressionScores))))\n",
    "print('SVM - Min: {}, Max: {}, Avg: {}'.format(min(augSvmWBC), max(augSvmWBC), sum(augSvmWBC)/len(augSvmWBC)))\n",
    "#print('   Best Seed: {}'.format(42 + svmRegressionScores.index(max(svmRegressionScores))))\n",
    "print('DT  - Min: {}, Max: {}, Avg: {}'.format(min(augDtWBC), max(augDtWBC), sum(augDtWBC)/len(augDtWBC)))\n",
    "#print('   Best Seed: {}'.format(42 + decisionTreeRegressionScores.index(max(decisionTreeRegressionScores))))\n"
   ]
  },
  {
   "cell_type": "code",
   "execution_count": 38,
   "metadata": {},
   "outputs": [
    {
     "name": "stdout",
     "output_type": "stream",
     "text": [
      "Iteration: 0\n",
      "Iteration: 1\n",
      "Iteration: 2\n",
      "Iteration: 3\n",
      "Iteration: 4\n",
      "Iteration: 5\n",
      "Iteration: 6\n",
      "Iteration: 7\n",
      "Iteration: 8\n",
      "Iteration: 9\n",
      "KNN - Min: 0.8102189781021898, Max: 0.9416058394160584, Avg: 0.8905109489051094\n",
      "NB  - Min: 0.9416058394160584, Max: 0.9781021897810219, Avg: 0.9635036496350364\n",
      "LR  - Min: 0.9562043795620438, Max: 0.9854014598540146, Avg: 0.9678832116788321\n",
      "SVM - Min: 0.9562043795620438, Max: 0.9854014598540146, Avg: 0.97007299270073\n",
      "DT  - Min: 0.8759124087591241, Max: 0.9781021897810219, Avg: 0.9408759124087591\n"
     ]
    }
   ],
   "source": [
    "knnWBC = []\n",
    "nbWBC = []\n",
    "lrWBC = []\n",
    "svmWBC = []\n",
    "dtWBC = []\n",
    "for i in range(10):\n",
    "    X = df[cols[1:-1]]\n",
    "    y = df[cols[-1]]\n",
    "\n",
    "    SEED = 42 + i\n",
    "    X_train, X_test, y_train, y_test = train_test_split(X, y, test_size=0.20, random_state=SEED)\n",
    "    scaler = StandardScaler()\n",
    "    scaler.fit(X_train)\n",
    "\n",
    "    col_names=df.columns[2:]\n",
    "    scaled_df = pd.DataFrame(X_train, columns=col_names)\n",
    "    scaled_df.describe().T\n",
    "    scores = trainModels(X_train, X_test, y_train, y_test)\n",
    "    knnWBC.append(scores[0])\n",
    "    nbWBC.append(scores[1])\n",
    "    lrWBC.append(scores[2])\n",
    "    svmWBC.append(scores[3])\n",
    "    dtWBC.append(scores[4])\n",
    "    print('Iteration: {}'.format(i))\n",
    "\n",
    "\n",
    "\n",
    "print('KNN - Min: {}, Max: {}, Avg: {}'.format(min(knnWBC), max(knnWBC), sum(knnWBC)/len(knnWBC)))\n",
    "#print('   Best Seed: {}'.format(42 + knnScores.index(max(knnScores))))\n",
    "print('NB  - Min: {}, Max: {}, Avg: {}'.format(min(nbWBC), max(nbWBC), sum(nbWBC)/len(nbWBC)))\n",
    "#print('   Best Seed: {}'.format(42 + naiveBaysScores.index(max(naiveBaysScores))))\n",
    "print('LR  - Min: {}, Max: {}, Avg: {}'.format(min(lrWBC), max(lrWBC), sum(lrWBC)/len(lrWBC)))\n",
    "#print('   Best Seed: {}'.format(42 + logisticRegressionScores.index(max(logisticRegressionScores))))\n",
    "print('SVM - Min: {}, Max: {}, Avg: {}'.format(min(svmWBC), max(svmWBC), sum(svmWBC)/len(svmWBC)))\n",
    "#print('   Best Seed: {}'.format(42 + svmRegressionScores.index(max(svmRegressionScores))))\n",
    "print('DT  - Min: {}, Max: {}, Avg: {}'.format(min(dtWBC), max(dtWBC), sum(dtWBC)/len(dtWBC)))\n",
    "#print('   Best Seed: {}'.format(42 + decisionTreeRegressionScores.index(max(decisionTreeRegressionScores))))\n"
   ]
  },
  {
   "cell_type": "code",
   "execution_count": 39,
   "metadata": {},
   "outputs": [
    {
     "data": {
      "image/png": "[encoded data removed]",
      "text/plain": [
       "<Figure size 432x288 with 1 Axes>"
      ]
     },
     "metadata": {
      "needs_background": "light"
     },
     "output_type": "display_data"
    }
   ],
   "source": [
    "import matplotlib.pyplot as plt \n",
    "  \n",
    "X = ['KNN','NB','LR','SVM', 'DT']\n",
    "\n",
    "aug = [np.mean(augKnnWBC), np.mean(augNbWBC), np.mean(augLrWBC),\n",
    "        np.mean(augSvmWBC), np.mean(augDtWBC)]\n",
    "reg = [np.mean(knnWBC), np.mean(nbWBC), np.mean(lrWBC),\n",
    "        np.mean(svmWBC), np.mean(dtWBC)]\n",
    "\n",
    "Ygirls = [10,20,20,40]\n",
    "Zboys = [20,30,25,30]\n",
    "  \n",
    "X_axis = np.arange(len(X))\n",
    "  \n",
    "plt.bar(X_axis - 0.2, reg, 0.4, label = 'True Data')\n",
    "plt.bar(X_axis + 0.2, aug, 0.4, label = 'Aug Data')\n",
    "  \n",
    "plt.xticks(X_axis, X)\n",
    "plt.xlabel(\"Model Type\")\n",
    "plt.ylabel(\"Cross Validation Accuracy\")\n",
    "plt.ylim(0.75,1)\n",
    "plt.title(\"Comparing Performance on Augmented Data to\\n Raw Data on WBC (Little Correlation Between Features)\")\n",
    "plt.legend()\n",
    "plt.show()"
   ]
  },
  {
   "cell_type": "code",
   "execution_count": 40,
   "metadata": {},
   "outputs": [],
   "source": [
    "cols = ['ID', 'Diagnosis', 'radius', 'texture', 'perimeter', 'area', 'smoothness', 'compactness', 'concavity', 'concave_points', 'symmetry', 'fractal_dimension',\n",
    "        'radius_SE', 'texture_SE', 'perimeter_SE', 'area_SE', 'smoothness_SE', 'compactness_SE', 'concavity_SE', 'concave_points_SE', 'symmetry_SE', 'fractal_dimension_SE',\n",
    "        'radius_MAX', 'texture_MAX', 'perimeter_MAX', 'area_MAX', 'smoothness_MAX', 'compactness_MAX', 'concavity_MAX', 'concave_points_MAX', 'symmetry_MAX', 'fractal_dimension_MAX']\n",
    "df = pd.read_csv('../../Wisconsin_Database/wdbc.data', header=None)\n",
    "\n",
    "df.columns = cols\n",
    "df['Diagnosis'] = df['Diagnosis'].map(\n",
    "                   {'M':True,'B':False})\n",
    "\n"
   ]
  },
  {
   "cell_type": "code",
   "execution_count": 41,
   "metadata": {},
   "outputs": [
    {
     "name": "stdout",
     "output_type": "stream",
     "text": [
      "Data Shape: (569, 32)\n",
      "Iteration: 0\n",
      "Iteration: 1\n",
      "Iteration: 2\n",
      "Iteration: 3\n",
      "Iteration: 4\n",
      "Iteration: 5\n",
      "Iteration: 6\n",
      "Iteration: 7\n",
      "Iteration: 8\n",
      "Iteration: 9\n",
      "KNN - Min: 0.8245614035087719, Max: 0.9298245614035088, Avg: 0.8807017543859649\n",
      "NB  - Min: 0.9122807017543859, Max: 0.9736842105263158, Avg: 0.9412280701754385\n",
      "LR  - Min: 0.8157894736842105, Max: 0.8947368421052632, Avg: 0.8464912280701753\n",
      "SVM - Min: 0.8596491228070176, Max: 0.956140350877193, Avg: 0.9114035087719298\n",
      "DT  - Min: 0.8859649122807017, Max: 0.9736842105263158, Avg: 0.9263157894736842\n"
     ]
    }
   ],
   "source": [
    "augKnnWDBC = []\n",
    "augNbWDBC = []\n",
    "augLrWDBC = []\n",
    "augSvmWDBC = []\n",
    "augDtWDBC = []\n",
    "print('Data Shape: {}'.format(df.shape))\n",
    "for i in range(10):\n",
    "    X = df[cols[2:]]\n",
    "    y = df[cols[1]]\n",
    "\n",
    "    SEED = 42 + i\n",
    "    X_train, X_test, y_train, y_test = train_test_split(X, y, test_size=0.20, random_state=SEED)\n",
    "    finalDataset = generateSyntheticDataset(X_train, y_train, identical = True)\n",
    "    X_train = finalDataset[finalDataset.columns[:-1]]\n",
    "    y_train = finalDataset[finalDataset.columns[-1]]\n",
    "    scaler = StandardScaler()\n",
    "    scaler.fit(X_train)\n",
    "\n",
    "    col_names=df.columns[2:]\n",
    "    scaled_df = pd.DataFrame(X_train, columns=col_names)\n",
    "    scaled_df.describe().T\n",
    "    scores = trainModels(X_train, X_test, y_train, y_test)\n",
    "    augKnnWDBC.append(scores[0])\n",
    "    augNbWDBC.append(scores[1])\n",
    "    augLrWDBC.append(scores[2])\n",
    "    augSvmWDBC.append(scores[3])\n",
    "    augDtWDBC.append(scores[4])\n",
    "    print('Iteration: {}'.format(i))\n",
    "\n",
    "\n",
    "print('KNN - Min: {}, Max: {}, Avg: {}'.format(min(augKnnWDBC), max(augKnnWDBC), sum(augKnnWDBC)/len(augKnnWDBC)))\n",
    "#print('   Best Seed: {}'.format(42 + knnScores.index(max(knnScores))))\n",
    "print('NB  - Min: {}, Max: {}, Avg: {}'.format(min(augNbWDBC), max(augNbWDBC), sum(augNbWDBC)/len(augNbWDBC)))\n",
    "#print('   Best Seed: {}'.format(42 + naiveBaysScores.index(max(naiveBaysScores))))\n",
    "print('LR  - Min: {}, Max: {}, Avg: {}'.format(min(augLrWDBC), max(augLrWDBC), sum(augLrWDBC)/len(augLrWDBC)))\n",
    "#print('   Best Seed: {}'.format(42 + logisticRegressionScores.index(max(logisticRegressionScores))))\n",
    "print('SVM - Min: {}, Max: {}, Avg: {}'.format(min(augSvmWDBC), max(augSvmWDBC), sum(augSvmWDBC)/len(augSvmWDBC)))\n",
    "#print('   Best Seed: {}'.format(42 + svmRegressionScores.index(max(svmRegressionScores))))\n",
    "print('DT  - Min: {}, Max: {}, Avg: {}'.format(min(augDtWDBC), max(augDtWDBC), sum(augDtWDBC)/len(augDtWDBC)))\n",
    "#print('   Best Seed: {}'.format(42 + decisionTreeRegressionScores.index(max(decisionTreeRegressionScores))))\n"
   ]
  },
  {
   "cell_type": "code",
   "execution_count": 42,
   "metadata": {},
   "outputs": [
    {
     "name": "stdout",
     "output_type": "stream",
     "text": [
      "Iteration: 0\n",
      "Iteration: 1\n",
      "Iteration: 2\n",
      "Iteration: 3\n",
      "Iteration: 4\n",
      "Iteration: 5\n",
      "Iteration: 6\n",
      "Iteration: 7\n",
      "Iteration: 8\n",
      "Iteration: 9\n",
      "KNN - Min: 0.8421052631578947, Max: 0.9473684210526315, Avg: 0.8868421052631579\n",
      "NB  - Min: 0.9122807017543859, Max: 0.9736842105263158, Avg: 0.9412280701754385\n",
      "LR  - Min: 0.9035087719298246, Max: 0.9824561403508771, Avg: 0.9508771929824562\n",
      "SVM - Min: 0.9385964912280702, Max: 0.9824561403508771, Avg: 0.9596491228070174\n",
      "DT  - Min: 0.9210526315789473, Max: 0.9473684210526315, Avg: 0.9350877192982455\n"
     ]
    }
   ],
   "source": [
    "knnWDBC = []\n",
    "nbWDBC = []\n",
    "lrWDBC = []\n",
    "svmWDBC = []\n",
    "dtWDBC = []\n",
    "for i in range(10):\n",
    "    X = df[cols[2:]]\n",
    "    y = df[cols[1]]\n",
    "\n",
    "    SEED = 42 + i\n",
    "    X_train, X_test, y_train, y_test = train_test_split(X, y, test_size=0.20, random_state=SEED)\n",
    "    scaler = StandardScaler()\n",
    "    scaler.fit(X_train)\n",
    "\n",
    "    col_names=df.columns[2:]\n",
    "    scaled_df = pd.DataFrame(X_train, columns=col_names)\n",
    "    scaled_df.describe().T\n",
    "    scores = trainModels(X_train, X_test, y_train, y_test)\n",
    "    knnWDBC.append(scores[0])\n",
    "    nbWDBC.append(scores[1])\n",
    "    lrWDBC.append(scores[2])\n",
    "    svmWDBC.append(scores[3])\n",
    "    dtWDBC.append(scores[4])\n",
    "    print('Iteration: {}'.format(i))\n",
    "\n",
    "\n",
    "\n",
    "print('KNN - Min: {}, Max: {}, Avg: {}'.format(min(knnWDBC), max(knnWDBC), sum(knnWDBC)/len(knnWDBC)))\n",
    "#print('   Best Seed: {}'.format(42 + knnScores.index(max(knnScores))))\n",
    "print('NB  - Min: {}, Max: {}, Avg: {}'.format(min(nbWDBC), max(nbWDBC), sum(nbWDBC)/len(nbWDBC)))\n",
    "#print('   Best Seed: {}'.format(42 + naiveBaysScores.index(max(naiveBaysScores))))\n",
    "print('LR  - Min: {}, Max: {}, Avg: {}'.format(min(lrWDBC), max(lrWDBC), sum(lrWDBC)/len(lrWDBC)))\n",
    "#print('   Best Seed: {}'.format(42 + logisticRegressionScores.index(max(logisticRegressionScores))))\n",
    "print('SVM - Min: {}, Max: {}, Avg: {}'.format(min(svmWDBC), max(svmWDBC), sum(svmWDBC)/len(svmWDBC)))\n",
    "#print('   Best Seed: {}'.format(42 + svmRegressionScores.index(max(svmRegressionScores))))\n",
    "print('DT  - Min: {}, Max: {}, Avg: {}'.format(min(dtWDBC), max(dtWDBC), sum(dtWDBC)/len(dtWDBC)))\n",
    "#print('   Best Seed: {}'.format(42 + decisionTreeRegressionScores.index(max(decisionTreeRegressionScores))))\n"
   ]
  },
  {
   "cell_type": "code",
   "execution_count": 43,
   "metadata": {},
   "outputs": [
    {
     "data": {
      "image/png": "[encoded data removed]",
      "text/plain": [
       "<Figure size 432x288 with 1 Axes>"
      ]
     },
     "metadata": {
      "needs_background": "light"
     },
     "output_type": "display_data"
    }
   ],
   "source": [
    "X = ['KNN','NB','LR','SVM', 'DT']\n",
    "\n",
    "aug = [np.mean(augKnnWDBC), np.mean(augNbWDBC), np.mean(augLrWBC),\n",
    "        np.mean(augSvmWDBC), np.mean(augDtWDBC)]\n",
    "reg = [np.mean(knnWDBC), np.mean(nbWDBC), np.mean(lrWDBC),\n",
    "        np.mean(svmWDBC), np.mean(dtWDBC)]\n",
    "\n",
    "Ygirls = [10,20,20,40]\n",
    "Zboys = [20,30,25,30]\n",
    "  \n",
    "X_axis = np.arange(len(X))\n",
    "  \n",
    "plt.bar(X_axis - 0.2, reg, 0.4, label = 'True Data')\n",
    "plt.bar(X_axis + 0.2, aug, 0.4, label = 'Aug Data')\n",
    "  \n",
    "plt.xticks(X_axis, X)\n",
    "plt.xlabel(\"Model Type\")\n",
    "plt.ylabel(\"Cross Validation Accuracy\")\n",
    "plt.ylim(0.75,1)\n",
    "plt.title(\"Comparing Performance on Augmented Data to\\n Raw Data on WDBC (Correlated Features)\")\n",
    "plt.legend()\n",
    "plt.show()"
   ]
  }
 ],
 "metadata": {
  "kernelspec": {
   "display_name": "Python 3.9.7 ('base')",
   "language": "python",
   "name": "python3"
  },
  "language_info": {
   "codemirror_mode": {
    "name": "ipython",
    "version": 3
   },
   "file_extension": ".py",
   "mimetype": "text/x-python",
   "name": "python",
   "nbconvert_exporter": "python",
   "pygments_lexer": "ipython3",
   "version": "3.9.7"
  },
  "orig_nbformat": 4,
  "vscode": {
   "interpreter": {
    "hash": "a21a4d8430ca198249bdb796151de090f5777c48c0e324da81ff190d429db2a2"
   }
  }
 },
 "nbformat": 4,
 "nbformat_minor": 2
}

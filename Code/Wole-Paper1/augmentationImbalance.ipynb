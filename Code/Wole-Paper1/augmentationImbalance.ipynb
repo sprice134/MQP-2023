{
 "cells": [
  {
   "cell_type": "code",
   "execution_count": 166,
   "metadata": {},
   "outputs": [],
   "source": [
    "import matplotlib\n",
    "import matplotlib\n",
    "import pandas as pd\n",
    "import numpy as np\n",
    "import seaborn as sn\n",
    "import matplotlib.pyplot as plt\n",
    "from sklearn.model_selection import train_test_split\n",
    "from sklearn.preprocessing import StandardScaler\n",
    "from sklearn.linear_model import LogisticRegression\n",
    "from sklearn.tree import DecisionTreeClassifier\n",
    "from sklearn.neighbors import KNeighborsRegressor\n",
    "from sklearn.naive_bayes import GaussianNB\n",
    "from sklearn.svm import SVC\n",
    "from sklearn.metrics import mean_absolute_error, mean_squared_error\n",
    "from sklearn.metrics import confusion_matrix\n",
    "from imblearn.over_sampling import RandomOverSampler\n",
    "import warnings #to remove the warnings\n",
    "import random\n",
    "import sys\n",
    "sys.path.append('../_hepers_')\n",
    "from genNewVals import generateNewFeatureValMultiple\n",
    "from genSynData import generateSyntheticDataset\n",
    "from subsampleData import subsample\n",
    "from models import trainModels\n",
    "warnings.filterwarnings('ignore')\n",
    "import random\n",
    "random.seed(42)\n",
    "np.random.seed(42)\n"
   ]
  },
  {
   "cell_type": "markdown",
   "metadata": {},
   "source": [
    "# WBC Imbalance Testing\n"
   ]
  },
  {
   "cell_type": "markdown",
   "metadata": {},
   "source": [
    "### Loading in Data\n"
   ]
  },
  {
   "cell_type": "code",
   "execution_count": 167,
   "metadata": {},
   "outputs": [],
   "source": [
    "raw_df = pd.read_csv('../../Wisconsin_Database/breast-cancer-wisconsin.data', header=None)\n",
    "cols = ['ID', 'Thickness', 'SizeUniformity', 'ShapeUniformity', 'Adhesion', 'Size', 'BareNuclei', 'Bland Chromatin', 'Nucleoli', 'Mitoses', 'Diagnosis']\n",
    "raw_df.columns = cols\n",
    "raw_df['Diagnosis'] = raw_df['Diagnosis'].map(\n",
    "                   {2:0,4:1})\n",
    "\n",
    "temp = []\n",
    "for index, row in raw_df.iterrows():\n",
    "    if '?' not in row.values:\n",
    "        temp.append(row)\n",
    "        \n",
    "df = pd.DataFrame(np.array(temp), columns=cols)\n",
    "df['BareNuclei'] = df['BareNuclei'].astype(np.int)\n",
    "\n",
    "\n",
    "for i in df:\n",
    "    df[i] = df[i].astype(np.int)\n"
   ]
  },
  {
   "cell_type": "markdown",
   "metadata": {},
   "source": [
    "### Collecting Augmented Results"
   ]
  },
  {
   "cell_type": "code",
   "execution_count": 168,
   "metadata": {},
   "outputs": [
    {
     "name": "stdout",
     "output_type": "stream",
     "text": [
      "Iteration: 0\n",
      "Iteration: 1\n",
      "Iteration: 2\n",
      "Iteration: 3\n",
      "Iteration: 4\n",
      "Iteration: 5\n",
      "Iteration: 6\n",
      "Iteration: 7\n",
      "Iteration: 8\n",
      "Iteration: 9\n"
     ]
    }
   ],
   "source": [
    "augKnnWBC = []\n",
    "augNbWBC = []\n",
    "augLrWBC = []\n",
    "augSvmWBC = []\n",
    "augDtWBC = []\n",
    "augVcWBC = []\n",
    "for i in range(10):\n",
    "    X = df[cols[1:-1]]\n",
    "    y = df[cols[-1]]\n",
    "\n",
    "    SEED = 42 + i\n",
    "    X_train, X_test, y_train, y_test = train_test_split(X, y, test_size=0.20, random_state=SEED)\n",
    "    subSample = pd.DataFrame(subsample(X_train, y_train, 20000, 5))\n",
    "    X_train = subSample[subSample.columns[:-1]]\n",
    "    y_train = subSample[subSample.columns[-1]]\n",
    "    numClassSamples = len(y_train) - sum(y_train)\n",
    "    finalDataset = generateSyntheticDataset(X_train, y_train,  numBenign = numClassSamples, numMalig = numClassSamples)\n",
    "    X_train = finalDataset[finalDataset.columns[:-1]]\n",
    "    y_train = finalDataset[finalDataset.columns[-1]]\n",
    "    scaler = StandardScaler()\n",
    "    scaler.fit(X_train)\n",
    "    scores = trainModels(X_train, X_test, y_train, y_test)\n",
    "    augKnnWBC.append(scores[0])\n",
    "    augNbWBC.append(scores[1])\n",
    "    augLrWBC.append(scores[2])\n",
    "    augSvmWBC.append(scores[3])\n",
    "    augDtWBC.append(scores[4])\n",
    "    augVcWBC.append(scores[5])\n",
    "    print('Iteration: {}'.format(i))\n"
   ]
  },
  {
   "cell_type": "markdown",
   "metadata": {},
   "source": [
    "### Collecting Raw Results"
   ]
  },
  {
   "cell_type": "code",
   "execution_count": 169,
   "metadata": {},
   "outputs": [
    {
     "name": "stdout",
     "output_type": "stream",
     "text": [
      "Iteration: 0\n",
      "Iteration: 1\n",
      "Iteration: 2\n",
      "Iteration: 3\n",
      "Iteration: 4\n",
      "Iteration: 5\n",
      "Iteration: 6\n",
      "Iteration: 7\n",
      "Iteration: 8\n",
      "Iteration: 9\n"
     ]
    }
   ],
   "source": [
    "knnWBC = []\n",
    "nbWBC = []\n",
    "lrWBC = []\n",
    "svmWBC = []\n",
    "dtWBC = []\n",
    "vcWBC = []\n",
    "for i in range(10):\n",
    "    X = df[cols[1:-1]]\n",
    "    y = df[cols[-1]]\n",
    "\n",
    "    SEED = 42 + i\n",
    "    X_train, X_test, y_train, y_test = train_test_split(X, y, test_size=0.20, random_state=SEED)\n",
    "    subSample = pd.DataFrame(subsample(X_train, y_train, 20000, 5))\n",
    "    X_train = subSample[subSample.columns[:-1]]\n",
    "    y_train = subSample[subSample.columns[-1]]\n",
    "    scaler = StandardScaler()\n",
    "    scaler.fit(X_train)\n",
    "\n",
    "    col_names=df.columns[2:]\n",
    "    scaled_df = pd.DataFrame(X_train, columns=col_names)\n",
    "    scaled_df.describe().T\n",
    "    scores = trainModels(X_train, X_test, y_train, y_test)\n",
    "    knnWBC.append(scores[0])\n",
    "    nbWBC.append(scores[1])\n",
    "    lrWBC.append(scores[2])\n",
    "    svmWBC.append(scores[3])\n",
    "    dtWBC.append(scores[4])\n",
    "    vcWBC.append(scores[5])\n",
    "    print('Iteration: {}'.format(i))\n"
   ]
  },
  {
   "cell_type": "markdown",
   "metadata": {},
   "source": [
    "### Collecting Oversampled Results\n"
   ]
  },
  {
   "cell_type": "code",
   "execution_count": 170,
   "metadata": {},
   "outputs": [
    {
     "name": "stdout",
     "output_type": "stream",
     "text": [
      "Iteration: 0\n",
      "Iteration: 1\n",
      "Iteration: 2\n",
      "Iteration: 3\n",
      "Iteration: 4\n",
      "Iteration: 5\n",
      "Iteration: 6\n",
      "Iteration: 7\n",
      "Iteration: 8\n",
      "Iteration: 9\n"
     ]
    }
   ],
   "source": [
    "overKnnWBC = []\n",
    "overNbWBC = []\n",
    "overLrWBC = []\n",
    "overSvmWBC = []\n",
    "overDtWBC = []\n",
    "overVcWBC = []\n",
    "for i in range(10):\n",
    "    X = df[cols[1:-1]]\n",
    "    y = df[cols[-1]]\n",
    "\n",
    "    SEED = 42 + i\n",
    "    X_train, X_test, y_train, y_test = train_test_split(X, y, test_size=0.20, random_state=SEED)\n",
    "    subSample = pd.DataFrame(subsample(X_train, y_train, 20000, 5))\n",
    "    X_train = subSample[subSample.columns[:-1]]\n",
    "    y_train = subSample[subSample.columns[-1]]\n",
    "    oversample = RandomOverSampler(sampling_strategy='minority', random_state=42)\n",
    "    X_train, y_train = oversample.fit_resample(X_train, y_train)\n",
    "\n",
    "    col_names=df.columns[2:]\n",
    "    scaled_df = pd.DataFrame(X_train, columns=col_names)\n",
    "    scaled_df.describe().T\n",
    "    scores = trainModels(X_train, X_test, y_train, y_test)\n",
    "    overKnnWBC.append(scores[0])\n",
    "    overNbWBC.append(scores[1])\n",
    "    overLrWBC.append(scores[2])\n",
    "    overSvmWBC.append(scores[3])\n",
    "    overDtWBC.append(scores[4])\n",
    "    overVcWBC.append(scores[5])\n",
    "    print('Iteration: {}'.format(i))\n"
   ]
  },
  {
   "cell_type": "code",
   "execution_count": 171,
   "metadata": {},
   "outputs": [
    {
     "data": {
      "image/png": "[encoded data removed]",
      "text/plain": [
       "<Figure size 432x288 with 1 Axes>"
      ]
     },
     "metadata": {
      "needs_background": "light"
     },
     "output_type": "display_data"
    }
   ],
   "source": [
    "import matplotlib.pyplot as plt \n",
    "  \n",
    "X_Vals = ['KNN','NB','LR','SVM', 'DT', 'VC']\n",
    "\n",
    "aug = [np.mean(augKnnWBC), np.mean(augNbWBC), np.mean(augLrWBC),\n",
    "        np.mean(augSvmWBC), np.mean(augDtWBC), np.mean(augVcWBC)]\n",
    "reg = [np.mean(knnWBC), np.mean(nbWBC), np.mean(lrWBC),\n",
    "        np.mean(svmWBC), np.mean(dtWBC), np.mean(vcWBC)]\n",
    "over = [np.mean(overKnnWBC), np.mean(overNbWBC), np.mean(overLrWBC),\n",
    "        np.mean(overSvmWBC), np.mean(overDtWBC), np.mean(overVcWBC)]\n",
    "\n",
    "\n",
    "  \n",
    "X_axis = np.arange(len(X_Vals))\n",
    "\n",
    "\n",
    " \n",
    "plt.bar(X_axis - 0.3, reg, 0.2, label = 'Unbalanced')\n",
    "plt.bar(X_axis - 0.1, over, 0.2, label = 'Oversampled\\n(from Unbalanced)')\n",
    "plt.bar(X_axis + 0.1, aug, 0.2, label = 'Synthetic\\n(from Unbalanced)')\n",
    "plt.xticks(X_axis, X_Vals)\n",
    "plt.xlabel(\"Model Type\")\n",
    "plt.ylabel(\"Cross Validation Accuracy\")\n",
    "plt.ylim(0.0,1)\n",
    "plt.title(\"Comparing Performance on WBC Dataset with Forced \\nUnbalanbed Data and Augmented Balanced Data\")\n",
    "plt.legend(title='Dataset',loc='center left', bbox_to_anchor=(1, 0.5))\n",
    "plt.show()"
   ]
  },
  {
   "cell_type": "code",
   "execution_count": 172,
   "metadata": {},
   "outputs": [],
   "source": [
    "cols = ['ID', 'Diagnosis', 'radius', 'texture', 'perimeter', 'area', 'smoothness', 'compactness', 'concavity', 'concave_points', 'symmetry', 'fractal_dimension',\n",
    "        'radius_SE', 'texture_SE', 'perimeter_SE', 'area_SE', 'smoothness_SE', 'compactness_SE', 'concavity_SE', 'concave_points_SE', 'symmetry_SE', 'fractal_dimension_SE',\n",
    "        'radius_MAX', 'texture_MAX', 'perimeter_MAX', 'area_MAX', 'smoothness_MAX', 'compactness_MAX', 'concavity_MAX', 'concave_points_MAX', 'symmetry_MAX', 'fractal_dimension_MAX']\n",
    "df = pd.read_csv('wdbc.data', header=None)\n",
    "\n",
    "df.columns = cols\n",
    "df['Diagnosis'] = df['Diagnosis'].map(\n",
    "                   {'M':True,'B':False})\n",
    "\n"
   ]
  },
  {
   "cell_type": "code",
   "execution_count": 173,
   "metadata": {},
   "outputs": [
    {
     "name": "stdout",
     "output_type": "stream",
     "text": [
      "Iteration: 0\n",
      "Iteration: 1\n",
      "Iteration: 2\n",
      "Iteration: 3\n",
      "Iteration: 4\n",
      "Iteration: 5\n",
      "Iteration: 6\n",
      "Iteration: 7\n",
      "Iteration: 8\n",
      "Iteration: 9\n"
     ]
    }
   ],
   "source": [
    "augKnnWDBC = []\n",
    "augNbWDBC = []\n",
    "augLrWDBC = []\n",
    "augSvmWDBC = []\n",
    "augDtWDBC = []\n",
    "augVcWDBC = []\n",
    "for i in range(10):\n",
    "    X = df[cols[2:]]\n",
    "    y = df[cols[1]]\n",
    "\n",
    "    SEED = 42 + i\n",
    "    X_train, X_test, y_train, y_test = train_test_split(X, y, test_size=0.20, random_state=SEED)\n",
    "    subSample = pd.DataFrame(subsample(X_train, y_train, 20000, 5))\n",
    "    X_train = subSample[subSample.columns[:-1]]\n",
    "    y_train = subSample[subSample.columns[-1]]\n",
    "    numClassSamples = len(y_train) - sum(y_train)\n",
    "    finalDataset = generateSyntheticDataset(X_train, y_train,  numBenign = numClassSamples, numMalig = numClassSamples)\n",
    "    X_train = finalDataset[finalDataset.columns[:-1]]\n",
    "    y_train = finalDataset[finalDataset.columns[-1]]\n",
    "    scaler = StandardScaler()\n",
    "    scaler.fit(X_train)\n",
    "    scores = trainModels(X_train, X_test, y_train, y_test)\n",
    "    augKnnWDBC.append(scores[0])\n",
    "    augNbWDBC.append(scores[1])\n",
    "    augLrWDBC.append(scores[2])\n",
    "    augSvmWDBC.append(scores[3])\n",
    "    augDtWDBC.append(scores[4])\n",
    "    augVcWDBC.append(scores[5])\n",
    "    print('Iteration: {}'.format(i))"
   ]
  },
  {
   "cell_type": "code",
   "execution_count": 174,
   "metadata": {},
   "outputs": [
    {
     "name": "stdout",
     "output_type": "stream",
     "text": [
      "Iteration: 0\n",
      "Iteration: 1\n",
      "Iteration: 2\n",
      "Iteration: 3\n",
      "Iteration: 4\n",
      "Iteration: 5\n",
      "Iteration: 6\n",
      "Iteration: 7\n",
      "Iteration: 8\n",
      "Iteration: 9\n"
     ]
    }
   ],
   "source": [
    "knnWDBC = []\n",
    "nbWDBC = []\n",
    "lrWDBC = []\n",
    "svmWDBC = []\n",
    "dtWDBC = []\n",
    "vcWDBC = []\n",
    "for i in range(10):\n",
    "    X = df[cols[2:]]\n",
    "    y = df[cols[1]]\n",
    "\n",
    "    SEED = 42 + i\n",
    "    X_train, X_test, y_train, y_test = train_test_split(X, y, test_size=0.20, random_state=SEED)\n",
    "    subSample = pd.DataFrame(subsample(X_train, y_train, 20000, 5))\n",
    "    X_train = subSample[subSample.columns[:-1]]\n",
    "    y_train = subSample[subSample.columns[-1]]\n",
    "    scaler = StandardScaler()\n",
    "    scaler.fit(X_train)\n",
    "\n",
    "    col_names=df.columns[2:]\n",
    "    scaled_df = pd.DataFrame(X_train, columns=col_names)\n",
    "    scaled_df.describe().T\n",
    "    scores = trainModels(X_train, X_test, y_train, y_test)\n",
    "    knnWDBC.append(scores[0])\n",
    "    nbWDBC.append(scores[1])\n",
    "    lrWDBC.append(scores[2])\n",
    "    svmWDBC.append(scores[3])\n",
    "    dtWDBC.append(scores[4])\n",
    "    vcWDBC.append(scores[5])\n",
    "    print('Iteration: {}'.format(i))\n"
   ]
  },
  {
   "cell_type": "code",
   "execution_count": 175,
   "metadata": {},
   "outputs": [
    {
     "name": "stdout",
     "output_type": "stream",
     "text": [
      "Iteration: 0\n",
      "Iteration: 1\n",
      "Iteration: 2\n",
      "Iteration: 3\n",
      "Iteration: 4\n",
      "Iteration: 5\n",
      "Iteration: 6\n",
      "Iteration: 7\n",
      "Iteration: 8\n",
      "Iteration: 9\n"
     ]
    }
   ],
   "source": [
    "overKnnWDBC = []\n",
    "overNbWDBC = []\n",
    "overLrWDBC = []\n",
    "overSvmWDBC = []\n",
    "overDtWDBC = []\n",
    "overVcWDBC = []\n",
    "for i in range(10):\n",
    "    X = df[cols[2:]]\n",
    "    y = df[cols[1]]\n",
    "\n",
    "    SEED = 42 + i\n",
    "    X_train, X_test, y_train, y_test = train_test_split(X, y, test_size=0.20, random_state=SEED)\n",
    "    subSample = pd.DataFrame(subsample(X_train, y_train, 20000, 5))\n",
    "    X_train = subSample[subSample.columns[:-1]]\n",
    "    y_train = subSample[subSample.columns[-1]]\n",
    "    oversample = RandomOverSampler(sampling_strategy='minority', random_state=42)\n",
    "    X_train, y_train = oversample.fit_resample(X_train, y_train)\n",
    "\n",
    "    col_names=df.columns[2:]\n",
    "    scaled_df = pd.DataFrame(X_train, columns=col_names)\n",
    "    scaled_df.describe().T\n",
    "    scores = trainModels(X_train, X_test, y_train, y_test)\n",
    "    overKnnWDBC.append(scores[0])\n",
    "    overNbWDBC.append(scores[1])\n",
    "    overLrWDBC.append(scores[2])\n",
    "    overSvmWDBC.append(scores[3])\n",
    "    overDtWDBC.append(scores[4])\n",
    "    overVcWDBC.append(scores[5])\n",
    "    print('Iteration: {}'.format(i))"
   ]
  },
  {
   "cell_type": "code",
   "execution_count": 176,
   "metadata": {},
   "outputs": [
    {
     "data": {
      "image/png": "[encoded data removed]",
      "text/plain": [
       "<Figure size 432x288 with 1 Axes>"
      ]
     },
     "metadata": {
      "needs_background": "light"
     },
     "output_type": "display_data"
    }
   ],
   "source": [
    "import matplotlib.pyplot as plt \n",
    "  \n",
    "X_Vals = ['KNN','NB','LR','SVM', 'DT', 'VC' ]\n",
    "\n",
    "aug = [np.mean(augKnnWDBC), np.mean(augNbWDBC), np.mean(augLrWDBC),\n",
    "        np.mean(augSvmWDBC), np.mean(augDtWDBC), np.mean(augVcWDBC)]\n",
    "reg = [np.mean(knnWDBC), np.mean(nbWDBC), np.mean(lrWDBC),\n",
    "        np.mean(svmWDBC), np.mean(dtWDBC), np.mean(vcWDBC)]\n",
    "over = [np.mean(overKnnWDBC), np.mean(overNbWDBC), np.mean(overLrWDBC),\n",
    "        np.mean(overSvmWDBC), np.mean(overDtWDBC), np.mean(overVcWDBC)]\n",
    "  \n",
    "X_axis = np.arange(len(X_Vals))\n",
    "  \n",
    "plt.bar(X_axis - 0.3, reg, 0.2, label = 'Unbalanced')\n",
    "plt.bar(X_axis - 0.1, over, 0.2, label = 'Oversampled\\n(from Unbalanced)')\n",
    "plt.bar(X_axis + 0.1, aug, 0.2, label = 'Synthetic\\n(from Unbalanced)')\n",
    "  \n",
    "plt.xticks(X_axis, X_Vals)\n",
    "plt.xlabel(\"Model Type\")\n",
    "plt.ylabel(\"Cross Validation Accuracy\")\n",
    "plt.ylim(0.0,1)\n",
    "plt.title(\"Comparing Performance on WDBC Dataset with Forced \\nUnbalanbed Data and Augmented Balanced Data\\nWith Correlation Left in\")\n",
    "plt.legend(title='Dataset',loc='center left', bbox_to_anchor=(1, 0.5))\n",
    "plt.show()\n"
   ]
  },
  {
   "cell_type": "code",
   "execution_count": 177,
   "metadata": {},
   "outputs": [],
   "source": [
    "cols = ['ID', 'Diagnosis', 'radius', 'texture', 'perimeter', 'area', 'smoothness', 'compactness', 'concavity', 'concave_points', 'symmetry', 'fractal_dimension',\n",
    "        'radius_SE', 'texture_SE', 'perimeter_SE', 'area_SE', 'smoothness_SE', 'compactness_SE', 'concavity_SE', 'concave_points_SE', 'symmetry_SE', 'fractal_dimension_SE',\n",
    "        'radius_MAX', 'texture_MAX', 'perimeter_MAX', 'area_MAX', 'smoothness_MAX', 'compactness_MAX', 'concavity_MAX', 'concave_points_MAX', 'symmetry_MAX', 'fractal_dimension_MAX']\n",
    "df = pd.read_csv('wdbc.data', header=None)\n",
    "\n",
    "df.columns = cols\n",
    "df['Diagnosis'] = df['Diagnosis'].map(\n",
    "                   {'M':True,'B':False})\n",
    "#Columns Identified by Correlation Matrix\n",
    "#When Columns were correlated, that which was most correlated with the target variable (Diagnosis)\n",
    "#Was Kept\n",
    "colsInUse = ['ID', 'Diagnosis', 'texture', 'smoothness', 'symmetry', 'fractal_dimension', \n",
    "                'radius_SE', 'texture_SE', 'smoothness_SE', 'compactness_SE', 'concavity_SE', 'concave_points_SE', 'symmetry_SE', 'fractal_dimension_SE',\n",
    "                'texture_MAX', 'perimeter_MAX', 'smoothness_MAX', 'compactness_MAX', 'concavity_MAX', 'concave_points_MAX', 'symmetry_MAX', 'fractal_dimension_MAX']\n",
    "\n",
    "df = df[colsInUse]\n",
    "\n"
   ]
  },
  {
   "cell_type": "code",
   "execution_count": 178,
   "metadata": {},
   "outputs": [
    {
     "name": "stdout",
     "output_type": "stream",
     "text": [
      "Iteration: 0\n",
      "Iteration: 1\n",
      "Iteration: 2\n",
      "Iteration: 3\n",
      "Iteration: 4\n",
      "Iteration: 5\n",
      "Iteration: 6\n",
      "Iteration: 7\n",
      "Iteration: 8\n",
      "Iteration: 9\n"
     ]
    }
   ],
   "source": [
    "augKnnWDBC_Stripped = []\n",
    "augNbWDBC_Stripped = []\n",
    "augLrWDBC_Stripped = []\n",
    "augSvmWDBC_Stripped = []\n",
    "augDtWDBC_Stripped = []\n",
    "augVcWDBC_Stripped = []\n",
    "for i in range(10):\n",
    "    X = df[colsInUse[2:]]\n",
    "    y = df[colsInUse[1]]\n",
    "\n",
    "    SEED = 42 + i\n",
    "    X_train, X_test, y_train, y_test = train_test_split(X, y, test_size=0.20, random_state=SEED)\n",
    "    subSample = pd.DataFrame(subsample(X_train, y_train, 20000, 5))\n",
    "    X_train = subSample[subSample.columns[:-1]]\n",
    "    y_train = subSample[subSample.columns[-1]]\n",
    "    numClassSamples = len(y_train) - sum(y_train)\n",
    "    finalDataset = generateSyntheticDataset(X_train, y_train,  numBenign = numClassSamples, numMalig = numClassSamples)\n",
    "    X_train = finalDataset[finalDataset.columns[:-1]]\n",
    "    y_train = finalDataset[finalDataset.columns[-1]]\n",
    "    scaler = StandardScaler()\n",
    "    scaler.fit(X_train)\n",
    "    scores = trainModels(X_train, X_test, y_train, y_test)\n",
    "    augKnnWDBC_Stripped.append(scores[0])\n",
    "    augNbWDBC_Stripped.append(scores[1])\n",
    "    augLrWDBC_Stripped.append(scores[2])\n",
    "    augSvmWDBC_Stripped.append(scores[3])\n",
    "    augDtWDBC_Stripped.append(scores[4])\n",
    "    augVcWDBC_Stripped.append(scores[5])\n",
    "    print('Iteration: {}'.format(i))\n",
    "\n"
   ]
  },
  {
   "cell_type": "code",
   "execution_count": 179,
   "metadata": {},
   "outputs": [
    {
     "name": "stdout",
     "output_type": "stream",
     "text": [
      "Iteration: 0\n",
      "Iteration: 1\n",
      "Iteration: 2\n",
      "Iteration: 3\n",
      "Iteration: 4\n",
      "Iteration: 5\n",
      "Iteration: 6\n",
      "Iteration: 7\n",
      "Iteration: 8\n",
      "Iteration: 9\n"
     ]
    }
   ],
   "source": [
    "knnWDBC_Stripped = []\n",
    "nbWDBC_Stripped = []\n",
    "lrWDBC_Stripped = []\n",
    "svmWDBC_Stripped = []\n",
    "dtWDBC_Stripped = []\n",
    "vcWDBC_Stripped = []\n",
    "for i in range(10):\n",
    "    X = df[colsInUse[2:]]\n",
    "    y = df[colsInUse[1]]\n",
    "\n",
    "    SEED = 42 + i\n",
    "    X_train, X_test, y_train, y_test = train_test_split(X, y, test_size=0.20, random_state=SEED)\n",
    "    subSample = pd.DataFrame(subsample(X_train, y_train, 20000, 5))\n",
    "    X_train = subSample[subSample.columns[:-1]]\n",
    "    y_train = subSample[subSample.columns[-1]]\n",
    "    scaler = StandardScaler()\n",
    "    scaler.fit(X_train)\n",
    "\n",
    "    col_names=df.columns[2:]\n",
    "    scaled_df = pd.DataFrame(X_train, columns=col_names)\n",
    "    scaled_df.describe().T\n",
    "    scores = trainModels(X_train, X_test, y_train, y_test)\n",
    "    knnWDBC_Stripped.append(scores[0])\n",
    "    nbWDBC_Stripped.append(scores[1])\n",
    "    lrWDBC_Stripped.append(scores[2])\n",
    "    svmWDBC_Stripped.append(scores[3])\n",
    "    dtWDBC_Stripped.append(scores[4])\n",
    "    vcWDBC_Stripped.append(scores[5])\n",
    "    print('Iteration: {}'.format(i))\n"
   ]
  },
  {
   "cell_type": "code",
   "execution_count": 180,
   "metadata": {},
   "outputs": [
    {
     "name": "stdout",
     "output_type": "stream",
     "text": [
      "Iteration: 0\n",
      "Iteration: 1\n",
      "Iteration: 2\n",
      "Iteration: 3\n",
      "Iteration: 4\n",
      "Iteration: 5\n",
      "Iteration: 6\n",
      "Iteration: 7\n",
      "Iteration: 8\n",
      "Iteration: 9\n"
     ]
    }
   ],
   "source": [
    "overKnnWDBC_Stripped = []\n",
    "overNbWDBC_Stripped = []\n",
    "overLrWDBC_Stripped = []\n",
    "overSvmWDBC_Stripped = []\n",
    "overDtWDBC_Stripped = []\n",
    "overVcWDBC_Stripped = []\n",
    "for i in range(10):\n",
    "    X = df[colsInUse[2:]]\n",
    "    y = df[colsInUse[1]]\n",
    "\n",
    "    SEED = 42 + i\n",
    "    X_train, X_test, y_train, y_test = train_test_split(X, y, test_size=0.20, random_state=SEED)\n",
    "    subSample = pd.DataFrame(subsample(X_train, y_train, 20000, 5))\n",
    "    X_train = subSample[subSample.columns[:-1]]\n",
    "    y_train = subSample[subSample.columns[-1]]\n",
    "    oversample = RandomOverSampler(sampling_strategy='minority', random_state=42)\n",
    "    X_train, y_train = oversample.fit_resample(X_train, y_train)\n",
    "\n",
    "    col_names=df.columns[2:]\n",
    "    scaled_df = pd.DataFrame(X_train, columns=col_names)\n",
    "    scaled_df.describe().T\n",
    "    scores = trainModels(X_train, X_test, y_train, y_test)\n",
    "    overKnnWDBC_Stripped.append(scores[0])\n",
    "    overNbWDBC_Stripped.append(scores[1])\n",
    "    overLrWDBC_Stripped.append(scores[2])\n",
    "    overSvmWDBC_Stripped.append(scores[3])\n",
    "    overDtWDBC_Stripped.append(scores[4])\n",
    "    overVcWDBC_Stripped.append(scores[5])\n",
    "    print('Iteration: {}'.format(i))\n",
    "\n"
   ]
  },
  {
   "cell_type": "code",
   "execution_count": 181,
   "metadata": {},
   "outputs": [
    {
     "data": {
      "image/png": "[encoded data removed]",
      "text/plain": [
       "<Figure size 432x288 with 1 Axes>"
      ]
     },
     "metadata": {
      "needs_background": "light"
     },
     "output_type": "display_data"
    }
   ],
   "source": [
    "X = ['KNN','NB','LR','SVM', 'DT', 'VC' ]\n",
    "\n",
    "aug = [np.mean(augKnnWDBC_Stripped), np.mean(augNbWDBC_Stripped), np.mean(augLrWDBC_Stripped),\n",
    "        np.mean(augSvmWDBC_Stripped), np.mean(augDtWDBC_Stripped), np.mean(augVcWDBC_Stripped)]\n",
    "reg = [np.mean(knnWDBC_Stripped), np.mean(nbWDBC_Stripped), np.mean(lrWDBC_Stripped),\n",
    "        np.mean(svmWDBC_Stripped), np.mean(dtWDBC_Stripped), np.mean(vcWDBC_Stripped)]\n",
    "over = [np.mean(overKnnWDBC_Stripped), np.mean(overNbWDBC_Stripped), np.mean(overLrWDBC_Stripped),\n",
    "        np.mean(overSvmWDBC_Stripped), np.mean(overDtWDBC_Stripped), np.mean(overVcWDBC_Stripped)]\n",
    "\n",
    "  \n",
    "X_axis = np.arange(len(X))\n",
    "  \n",
    "plt.bar(X_axis - 0.3, reg, 0.2, label = 'Unbalanced')\n",
    "plt.bar(X_axis - 0.1, over, 0.2, label = 'Oversampled\\n(from Unbalanced)')\n",
    "plt.bar(X_axis + 0.1, aug, 0.2, label = 'Synthetic\\n(from Unbalanced)')\n",
    "  \n",
    "plt.xticks(X_axis, X)\n",
    "plt.xlabel(\"Model Type\")\n",
    "plt.ylabel(\"Cross Validation Accuracy\")\n",
    "plt.ylim(0,1)\n",
    "plt.title(\"Comparing Performance on Augmented Data to\\n Raw Data on WDBC (With Correlation Removed)\")\n",
    "plt.legend(title='Dataset',loc='center left', bbox_to_anchor=(1, 0.5))\n",
    "plt.show()\n",
    "\n"
   ]
  }
 ],
 "metadata": {
  "kernelspec": {
   "display_name": "Python 3.9.7 ('base')",
   "language": "python",
   "name": "python3"
  },
  "language_info": {
   "codemirror_mode": {
    "name": "ipython",
    "version": 3
   },
   "file_extension": ".py",
   "mimetype": "text/x-python",
   "name": "python",
   "nbconvert_exporter": "python",
   "pygments_lexer": "ipython3",
   "version": "3.9.7"
  },
  "orig_nbformat": 4,
  "vscode": {
   "interpreter": {
    "hash": "a21a4d8430ca198249bdb796151de090f5777c48c0e324da81ff190d429db2a2"
   }
  }
 },
 "nbformat": 4,
 "nbformat_minor": 2
}

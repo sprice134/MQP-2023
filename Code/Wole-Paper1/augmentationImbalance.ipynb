{
 "cells": [
  {
   "cell_type": "code",
   "execution_count": 25,
   "metadata": {},
   "outputs": [],
   "source": [
    "import matplotlib\n",
    "import matplotlib\n",
    "import pandas as pd\n",
    "import numpy as np\n",
    "import seaborn as sn\n",
    "import matplotlib.pyplot as plt\n",
    "from sklearn.model_selection import train_test_split\n",
    "from sklearn.preprocessing import StandardScaler\n",
    "from sklearn.linear_model import LogisticRegression\n",
    "from sklearn.tree import DecisionTreeClassifier\n",
    "from sklearn.neighbors import KNeighborsRegressor\n",
    "from sklearn.naive_bayes import GaussianNB\n",
    "from sklearn.svm import SVC\n",
    "from sklearn.metrics import mean_absolute_error, mean_squared_error\n",
    "from sklearn.metrics import confusion_matrix\n",
    "import warnings #to remove the warnings\n",
    "import random\n",
    "import sys\n",
    "sys.path.append('../_hepers_')\n",
    "from genNewVals import generateNewFeatureValMultiple\n",
    "from genSynData import generateSyntheticDataset\n",
    "from subsampleData import subsample\n",
    "from models import trainModels\n",
    "warnings.filterwarnings('ignore')\n",
    "import random\n",
    "random.seed(42)\n",
    "np.random.seed(42)\n"
   ]
  },
  {
   "cell_type": "code",
   "execution_count": 26,
   "metadata": {},
   "outputs": [
    {
     "name": "stdout",
     "output_type": "stream",
     "text": [
      "(683, 11)\n",
      "          ID Thickness SizeUniformity ShapeUniformity Adhesion Size  \\\n",
      "0    1000025         5              1               1        1    2   \n",
      "1    1002945         5              4               4        5    7   \n",
      "2    1015425         3              1               1        1    2   \n",
      "3    1016277         6              8               8        1    3   \n",
      "4    1017023         4              1               1        3    2   \n",
      "..       ...       ...            ...             ...      ...  ...   \n",
      "678   776715         3              1               1        1    3   \n",
      "679   841769         2              1               1        1    2   \n",
      "680   888820         5             10              10        3    7   \n",
      "681   897471         4              8               6        4    3   \n",
      "682   897471         4              8               8        5    4   \n",
      "\n",
      "     BareNuclei Bland Chromatin Nucleoli Mitoses Diagnosis  \n",
      "0             1               3        1       1         0  \n",
      "1            10               3        2       1         0  \n",
      "2             2               3        1       1         0  \n",
      "3             4               3        7       1         0  \n",
      "4             1               3        1       1         0  \n",
      "..          ...             ...      ...     ...       ...  \n",
      "678           2               1        1       1         0  \n",
      "679           1               1        1       1         0  \n",
      "680           3               8       10       2         1  \n",
      "681           4              10        6       1         1  \n",
      "682           5              10        4       1         1  \n",
      "\n",
      "[683 rows x 11 columns]\n"
     ]
    }
   ],
   "source": [
    "raw_df = pd.read_csv('../../Wisconsin_Database/breast-cancer-wisconsin.data', header=None)\n",
    "cols = ['ID', 'Thickness', 'SizeUniformity', 'ShapeUniformity', 'Adhesion', 'Size', 'BareNuclei', 'Bland Chromatin', 'Nucleoli', 'Mitoses', 'Diagnosis']\n",
    "raw_df.columns = cols\n",
    "raw_df['Diagnosis'] = raw_df['Diagnosis'].map(\n",
    "                   {2:0,4:1})\n",
    "\n",
    "temp = []\n",
    "for index, row in raw_df.iterrows():\n",
    "    if '?' not in row.values:\n",
    "        temp.append(row)\n",
    "        \n",
    "df = pd.DataFrame(np.array(temp), columns=cols)\n",
    "df['BareNuclei'] = df['BareNuclei'].astype(np.int)\n",
    "print(df.shape)\n",
    "print(df)\n",
    "\n",
    "for i in df:\n",
    "    df[i] = df[i].astype(np.int)\n"
   ]
  },
  {
   "cell_type": "code",
   "execution_count": 27,
   "metadata": {},
   "outputs": [
    {
     "name": "stdout",
     "output_type": "stream",
     "text": [
      "Iteration: 0\n",
      "Iteration: 1\n",
      "Iteration: 2\n",
      "Iteration: 3\n",
      "Iteration: 4\n",
      "Iteration: 5\n",
      "Iteration: 6\n",
      "Iteration: 7\n",
      "Iteration: 8\n",
      "Iteration: 9\n",
      "KNN - Min: 0.8394160583941606, Max: 0.948905109489051, Avg: 0.905839416058394\n",
      "NB  - Min: 0.6058394160583942, Max: 0.9854014598540146, Avg: 0.791970802919708\n",
      "LR  - Min: 0.8759124087591241, Max: 0.9708029197080292, Avg: 0.9182481751824818\n",
      "SVM - Min: 0.8832116788321168, Max: 0.9781021897810219, Avg: 0.9313868613138686\n",
      "DT  - Min: 0.2846715328467153, Max: 0.8759124087591241, Avg: 0.6467153284671533\n"
     ]
    }
   ],
   "source": [
    "augKnnWBC = []\n",
    "augNbWBC = []\n",
    "augLrWBC = []\n",
    "augSvmWBC = []\n",
    "augDtWBC = []\n",
    "for i in range(10):\n",
    "    X = df[cols[1:-1]]\n",
    "    y = df[cols[-1]]\n",
    "\n",
    "    SEED = 42 + i\n",
    "    X_train, X_test, y_train, y_test = train_test_split(X, y, test_size=0.20, random_state=SEED)\n",
    "    subSample = pd.DataFrame(subsample(X_train, y_train, 20000, 5))\n",
    "    X_train = subSample[subSample.columns[:-1]]\n",
    "    y_train = subSample[subSample.columns[-1]]\n",
    "    numClassSamples = len(y_train) - sum(y_train)\n",
    "    finalDataset = generateSyntheticDataset(X_train, y_train,  numBenign = numClassSamples, numMalig = numClassSamples)\n",
    "    X_train = finalDataset[finalDataset.columns[:-1]]\n",
    "    y_train = finalDataset[finalDataset.columns[-1]]\n",
    "    scaler = StandardScaler()\n",
    "    scaler.fit(X_train)\n",
    "    scores = trainModels(X_train, X_test, y_train, y_test)\n",
    "    augKnnWBC.append(scores[0])\n",
    "    augNbWBC.append(scores[1])\n",
    "    augLrWBC.append(scores[2])\n",
    "    augSvmWBC.append(scores[3])\n",
    "    augDtWBC.append(scores[4])\n",
    "    print('Iteration: {}'.format(i))\n",
    "\n",
    "\n",
    "print('KNN - Min: {}, Max: {}, Avg: {}'.format(min(augKnnWBC), max(augKnnWBC), sum(augKnnWBC)/len(augKnnWBC)))\n",
    "#print('   Best Seed: {}'.format(42 + knnScores.index(max(knnScores))))\n",
    "print('NB  - Min: {}, Max: {}, Avg: {}'.format(min(augNbWBC), max(augNbWBC), sum(augNbWBC)/len(augNbWBC)))\n",
    "#print('   Best Seed: {}'.format(42 + naiveBaysScores.index(max(naiveBaysScores))))\n",
    "print('LR  - Min: {}, Max: {}, Avg: {}'.format(min(augLrWBC), max(augLrWBC), sum(augLrWBC)/len(augLrWBC)))\n",
    "#print('   Best Seed: {}'.format(42 + logisticRegressionScores.index(max(logisticRegressionScores))))\n",
    "print('SVM - Min: {}, Max: {}, Avg: {}'.format(min(augSvmWBC), max(augSvmWBC), sum(augSvmWBC)/len(augSvmWBC)))\n",
    "#print('   Best Seed: {}'.format(42 + svmRegressionScores.index(max(svmRegressionScores))))\n",
    "print('DT  - Min: {}, Max: {}, Avg: {}'.format(min(augDtWBC), max(augDtWBC), sum(augDtWBC)/len(augDtWBC)))\n",
    "#print('   Best Seed: {}'.format(42 + decisionTreeRegressionScores.index(max(decisionTreeRegressionScores))))\n"
   ]
  },
  {
   "cell_type": "code",
   "execution_count": 28,
   "metadata": {},
   "outputs": [
    {
     "name": "stdout",
     "output_type": "stream",
     "text": [
      "Iteration: 0\n",
      "Iteration: 1\n",
      "Iteration: 2\n",
      "Iteration: 3\n",
      "Iteration: 4\n",
      "Iteration: 5\n",
      "Iteration: 6\n",
      "Iteration: 7\n",
      "Iteration: 8\n",
      "Iteration: 9\n",
      "KNN - Min: 0.5766423357664233, Max: 0.8905109489051095, Avg: 0.6700729927007301\n",
      "NB  - Min: 0.8029197080291971, Max: 0.9781021897810219, Avg: 0.9467153284671534\n",
      "LR  - Min: 0.7372262773722628, Max: 0.8905109489051095, Avg: 0.8175182481751824\n",
      "SVM - Min: 0.7299270072992701, Max: 0.9197080291970803, Avg: 0.8189781021897812\n",
      "DT  - Min: 0.781021897810219, Max: 0.8759124087591241, Avg: 0.813138686131387\n"
     ]
    }
   ],
   "source": [
    "knnWBC = []\n",
    "nbWBC = []\n",
    "lrWBC = []\n",
    "svmWBC = []\n",
    "dtWBC = []\n",
    "for i in range(10):\n",
    "    X = df[cols[1:-1]]\n",
    "    y = df[cols[-1]]\n",
    "\n",
    "    SEED = 42 + i\n",
    "    X_train, X_test, y_train, y_test = train_test_split(X, y, test_size=0.20, random_state=SEED)\n",
    "    subSample = pd.DataFrame(subsample(X_train, y_train, 20000, 5))\n",
    "    X_train = subSample[subSample.columns[:-1]]\n",
    "    y_train = subSample[subSample.columns[-1]]\n",
    "    scaler = StandardScaler()\n",
    "    scaler.fit(X_train)\n",
    "\n",
    "    col_names=df.columns[2:]\n",
    "    scaled_df = pd.DataFrame(X_train, columns=col_names)\n",
    "    scaled_df.describe().T\n",
    "    scores = trainModels(X_train, X_test, y_train, y_test)\n",
    "    knnWBC.append(scores[0])\n",
    "    nbWBC.append(scores[1])\n",
    "    lrWBC.append(scores[2])\n",
    "    svmWBC.append(scores[3])\n",
    "    dtWBC.append(scores[4])\n",
    "    print('Iteration: {}'.format(i))\n",
    "\n",
    "\n",
    "print('KNN - Min: {}, Max: {}, Avg: {}'.format(min(knnWBC), max(knnWBC), sum(knnWBC)/len(knnWBC)))\n",
    "#print('   Best Seed: {}'.format(42 + knnScores.index(max(knnScores))))\n",
    "print('NB  - Min: {}, Max: {}, Avg: {}'.format(min(nbWBC), max(nbWBC), sum(nbWBC)/len(nbWBC)))\n",
    "#print('   Best Seed: {}'.format(42 + naiveBaysScores.index(max(naiveBaysScores))))\n",
    "print('LR  - Min: {}, Max: {}, Avg: {}'.format(min(lrWBC), max(lrWBC), sum(lrWBC)/len(lrWBC)))\n",
    "#print('   Best Seed: {}'.format(42 + logisticRegressionScores.index(max(logisticRegressionScores))))\n",
    "print('SVM - Min: {}, Max: {}, Avg: {}'.format(min(svmWBC), max(svmWBC), sum(svmWBC)/len(svmWBC)))\n",
    "#print('   Best Seed: {}'.format(42 + svmRegressionScores.index(max(svmRegressionScores))))\n",
    "print('DT  - Min: {}, Max: {}, Avg: {}'.format(min(dtWBC), max(dtWBC), sum(dtWBC)/len(dtWBC)))\n",
    "#print('   Best Seed: {}'.format(42 + decisionTreeRegressionScores.index(max(decisionTreeRegressionScores))))\n"
   ]
  },
  {
   "cell_type": "code",
   "execution_count": 29,
   "metadata": {},
   "outputs": [
    {
     "data": {
      "image/png": "[encoded data removed]",
      "text/plain": [
       "<Figure size 432x288 with 1 Axes>"
      ]
     },
     "metadata": {
      "needs_background": "light"
     },
     "output_type": "display_data"
    }
   ],
   "source": [
    "import matplotlib.pyplot as plt \n",
    "  \n",
    "X_Vals = ['KNN','NB','LR','SVM', 'DT']\n",
    "\n",
    "aug = [np.mean(augKnnWBC), np.mean(augNbWBC), np.mean(augLrWBC),\n",
    "        np.mean(augSvmWBC), np.mean(augDtWBC)]\n",
    "reg = [np.mean(knnWBC), np.mean(nbWBC), np.mean(lrWBC),\n",
    "        np.mean(svmWBC), np.mean(dtWBC)]\n",
    "\n",
    "\n",
    "  \n",
    "X_axis = np.arange(len(X_Vals))\n",
    "\n",
    "\n",
    " \n",
    "plt.bar(X_axis - 0.2, reg, 0.4, label = 'Unbalanced')\n",
    "plt.bar(X_axis + 0.2, aug, 0.4, label = 'Augmented\\n(from Unbalanced)')\n",
    "plt.xticks(X_axis, X_Vals)\n",
    "plt.xlabel(\"Model Type\")\n",
    "plt.ylabel(\"Cross Validation Accuracy\")\n",
    "plt.ylim(0.5,1)\n",
    "plt.title(\"Comparing Performance on WBC Dataset with Forced \\nUnbalanbed Data and Augmented Balanced Data\")\n",
    "plt.legend(title='Dataset',loc='center left', bbox_to_anchor=(1, 0.5))\n",
    "plt.show()"
   ]
  },
  {
   "cell_type": "code",
   "execution_count": 30,
   "metadata": {},
   "outputs": [],
   "source": [
    "cols = ['ID', 'Diagnosis', 'radius', 'texture', 'perimeter', 'area', 'smoothness', 'compactness', 'concavity', 'concave_points', 'symmetry', 'fractal_dimension',\n",
    "        'radius_SE', 'texture_SE', 'perimeter_SE', 'area_SE', 'smoothness_SE', 'compactness_SE', 'concavity_SE', 'concave_points_SE', 'symmetry_SE', 'fractal_dimension_SE',\n",
    "        'radius_MAX', 'texture_MAX', 'perimeter_MAX', 'area_MAX', 'smoothness_MAX', 'compactness_MAX', 'concavity_MAX', 'concave_points_MAX', 'symmetry_MAX', 'fractal_dimension_MAX']\n",
    "df = pd.read_csv('../../Wisconsin_Database/wdbc.data', header=None)\n",
    "\n",
    "df.columns = cols\n",
    "df['Diagnosis'] = df['Diagnosis'].map(\n",
    "                   {'M':True,'B':False})\n",
    "\n"
   ]
  },
  {
   "cell_type": "code",
   "execution_count": 31,
   "metadata": {},
   "outputs": [
    {
     "name": "stdout",
     "output_type": "stream",
     "text": [
      "Iteration: 0\n",
      "Iteration: 1\n",
      "Iteration: 2\n",
      "Iteration: 3\n",
      "Iteration: 4\n",
      "Iteration: 5\n",
      "Iteration: 6\n",
      "Iteration: 7\n",
      "Iteration: 8\n",
      "Iteration: 9\n",
      "KNN - Min: 0.6228070175438597, Max: 0.9035087719298246, Avg: 0.8149122807017545\n",
      "NB  - Min: 0.38596491228070173, Max: 0.6754385964912281, Avg: 0.5447368421052631\n",
      "LR  - Min: 0.6929824561403509, Max: 0.8947368421052632, Avg: 0.7921052631578948\n",
      "SVM - Min: 0.8157894736842105, Max: 0.9385964912280702, Avg: 0.8859649122807018\n",
      "DT  - Min: 0.3333333333333333, Max: 0.9122807017543859, Avg: 0.6578947368421052\n"
     ]
    }
   ],
   "source": [
    "augKnnWDBC = []\n",
    "augNbWDBC = []\n",
    "augLrWDBC = []\n",
    "augSvmWDBC = []\n",
    "augDtWDBC = []\n",
    "for i in range(10):\n",
    "    X = df[cols[2:]]\n",
    "    y = df[cols[1]]\n",
    "\n",
    "    SEED = 42 + i\n",
    "    X_train, X_test, y_train, y_test = train_test_split(X, y, test_size=0.20, random_state=SEED)\n",
    "    subSample = pd.DataFrame(subsample(X_train, y_train, 20000, 5))\n",
    "    X_train = subSample[subSample.columns[:-1]]\n",
    "    y_train = subSample[subSample.columns[-1]]\n",
    "    numClassSamples = len(y_train) - sum(y_train)\n",
    "    finalDataset = generateSyntheticDataset(X_train, y_train,  numBenign = numClassSamples, numMalig = numClassSamples)\n",
    "    X_train = finalDataset[finalDataset.columns[:-1]]\n",
    "    y_train = finalDataset[finalDataset.columns[-1]]\n",
    "    scaler = StandardScaler()\n",
    "    scaler.fit(X_train)\n",
    "    scores = trainModels(X_train, X_test, y_train, y_test)\n",
    "    augKnnWDBC.append(scores[0])\n",
    "    augNbWDBC.append(scores[1])\n",
    "    augLrWDBC.append(scores[2])\n",
    "    augSvmWDBC.append(scores[3])\n",
    "    augDtWDBC.append(scores[4])\n",
    "    print('Iteration: {}'.format(i))\n",
    "\n",
    "\n",
    "print('KNN - Min: {}, Max: {}, Avg: {}'.format(min(augKnnWDBC), max(augKnnWDBC), sum(augKnnWDBC)/len(augKnnWDBC)))\n",
    "#print('   Best Seed: {}'.format(42 + knnScores.index(max(knnScores))))\n",
    "print('NB  - Min: {}, Max: {}, Avg: {}'.format(min(augNbWDBC), max(augNbWDBC), sum(augNbWDBC)/len(augNbWDBC)))\n",
    "#print('   Best Seed: {}'.format(42 + naiveBaysScores.index(max(naiveBaysScores))))\n",
    "print('LR  - Min: {}, Max: {}, Avg: {}'.format(min(augLrWDBC), max(augLrWDBC), sum(augLrWDBC)/len(augLrWDBC)))\n",
    "#print('   Best Seed: {}'.format(42 + logisticRegressionScores.index(max(logisticRegressionScores))))\n",
    "print('SVM - Min: {}, Max: {}, Avg: {}'.format(min(augSvmWDBC), max(augSvmWDBC), sum(augSvmWDBC)/len(augSvmWDBC)))\n",
    "#print('   Best Seed: {}'.format(42 + svmRegressionScores.index(max(svmRegressionScores))))\n",
    "print('DT  - Min: {}, Max: {}, Avg: {}'.format(min(augDtWDBC), max(augDtWDBC), sum(augDtWDBC)/len(augDtWDBC)))\n",
    "#print('   Best Seed: {}'.format(42 + decisionTreeRegressionScores.index(max(decisionTreeRegressionScores))))\n"
   ]
  },
  {
   "cell_type": "code",
   "execution_count": 32,
   "metadata": {},
   "outputs": [
    {
     "name": "stdout",
     "output_type": "stream",
     "text": [
      "Iteration: 0\n",
      "Iteration: 1\n",
      "Iteration: 2\n",
      "Iteration: 3\n",
      "Iteration: 4\n",
      "Iteration: 5\n",
      "Iteration: 6\n",
      "Iteration: 7\n",
      "Iteration: 8\n",
      "Iteration: 9\n",
      "KNN - Min: 0.6578947368421053, Max: 0.8947368421052632, Avg: 0.8140350877192983\n",
      "NB  - Min: 0.34210526315789475, Max: 0.6666666666666666, Avg: 0.531578947368421\n",
      "LR  - Min: 0.7719298245614035, Max: 0.9473684210526315, Avg: 0.8657894736842104\n",
      "SVM - Min: 0.8157894736842105, Max: 0.956140350877193, Avg: 0.8991228070175439\n",
      "DT  - Min: 0.7631578947368421, Max: 0.8859649122807017, Avg: 0.8482456140350877\n"
     ]
    }
   ],
   "source": [
    "knnWDBC = []\n",
    "nbWDBC = []\n",
    "lrWDBC = []\n",
    "svmWDBC = []\n",
    "dtWDBC = []\n",
    "for i in range(10):\n",
    "    X = df[cols[2:]]\n",
    "    y = df[cols[1]]\n",
    "\n",
    "    SEED = 42 + i\n",
    "    X_train, X_test, y_train, y_test = train_test_split(X, y, test_size=0.20, random_state=SEED)\n",
    "    subSample = pd.DataFrame(subsample(X_train, y_train, 20000, 5))\n",
    "    X_train = subSample[subSample.columns[:-1]]\n",
    "    y_train = subSample[subSample.columns[-1]]\n",
    "    scaler = StandardScaler()\n",
    "    scaler.fit(X_train)\n",
    "\n",
    "    col_names=df.columns[2:]\n",
    "    scaled_df = pd.DataFrame(X_train, columns=col_names)\n",
    "    scaled_df.describe().T\n",
    "    scores = trainModels(X_train, X_test, y_train, y_test)\n",
    "    knnWDBC.append(scores[0])\n",
    "    nbWDBC.append(scores[1])\n",
    "    lrWDBC.append(scores[2])\n",
    "    svmWDBC.append(scores[3])\n",
    "    dtWDBC.append(scores[4])\n",
    "    print('Iteration: {}'.format(i))\n",
    "\n",
    "\n",
    "\n",
    "print('KNN - Min: {}, Max: {}, Avg: {}'.format(min(knnWDBC), max(knnWDBC), sum(knnWDBC)/len(knnWDBC)))\n",
    "#print('   Best Seed: {}'.format(42 + knnScores.index(max(knnScores))))\n",
    "print('NB  - Min: {}, Max: {}, Avg: {}'.format(min(nbWDBC), max(nbWDBC), sum(nbWDBC)/len(nbWDBC)))\n",
    "#print('   Best Seed: {}'.format(42 + naiveBaysScores.index(max(naiveBaysScores))))\n",
    "print('LR  - Min: {}, Max: {}, Avg: {}'.format(min(lrWDBC), max(lrWDBC), sum(lrWDBC)/len(lrWDBC)))\n",
    "#print('   Best Seed: {}'.format(42 + logisticRegressionScores.index(max(logisticRegressionScores))))\n",
    "print('SVM - Min: {}, Max: {}, Avg: {}'.format(min(svmWDBC), max(svmWDBC), sum(svmWDBC)/len(svmWDBC)))\n",
    "#print('   Best Seed: {}'.format(42 + svmRegressionScores.index(max(svmRegressionScores))))\n",
    "print('DT  - Min: {}, Max: {}, Avg: {}'.format(min(dtWDBC), max(dtWDBC), sum(dtWDBC)/len(dtWDBC)))\n",
    "#print('   Best Seed: {}'.format(42 + decisionTreeRegressionScores.index(max(decisionTreeRegressionScores))))"
   ]
  },
  {
   "cell_type": "code",
   "execution_count": 35,
   "metadata": {},
   "outputs": [
    {
     "data": {
      "image/png": "[encoded data removed]",
      "text/plain": [
       "<Figure size 432x288 with 1 Axes>"
      ]
     },
     "metadata": {
      "needs_background": "light"
     },
     "output_type": "display_data"
    }
   ],
   "source": [
    "import matplotlib.pyplot as plt \n",
    "  \n",
    "X_Vals = ['KNN','NB','LR','SVM', 'DT']\n",
    "\n",
    "\n",
    "X = ['KNN','NB','LR','SVM', 'DT']\n",
    "\n",
    "aug = [np.mean(augKnnWDBC), np.mean(augNbWDBC), np.mean(augLrWBC),\n",
    "        np.mean(augSvmWDBC), np.mean(augDtWDBC)]\n",
    "reg = [np.mean(knnWDBC), np.mean(nbWDBC), np.mean(lrWDBC),\n",
    "        np.mean(svmWDBC), np.mean(dtWDBC)]\n",
    "\n",
    "  \n",
    "X_axis = np.arange(len(X))\n",
    "  \n",
    "plt.bar(X_axis - 0.2, reg, 0.4, label = 'Unbalanced')\n",
    "plt.bar(X_axis + 0.2, aug, 0.4, label = 'Augmented\\n(from unbalanced)')\n",
    "  \n",
    "plt.xticks(X_axis, X)\n",
    "plt.xlabel(\"Model Type\")\n",
    "plt.ylabel(\"Cross Validation Accuracy\")\n",
    "plt.ylim(0.0,1)\n",
    "plt.title(\"Comparing Performance on WDBC Dataset with Forced \\nUnbalanbed Data and Augmented Balanced Data\")\n",
    "plt.legend(title='Dataset',loc='center left', bbox_to_anchor=(1, 0.5))\n",
    "plt.show()"
   ]
  }
 ],
 "metadata": {
  "kernelspec": {
   "display_name": "Python 3.9.7 ('base')",
   "language": "python",
   "name": "python3"
  },
  "language_info": {
   "codemirror_mode": {
    "name": "ipython",
    "version": 3
   },
   "file_extension": ".py",
   "mimetype": "text/x-python",
   "name": "python",
   "nbconvert_exporter": "python",
   "pygments_lexer": "ipython3",
   "version": "3.9.7"
  },
  "orig_nbformat": 4,
  "vscode": {
   "interpreter": {
    "hash": "a21a4d8430ca198249bdb796151de090f5777c48c0e324da81ff190d429db2a2"
   }
  }
 },
 "nbformat": 4,
 "nbformat_minor": 2
}

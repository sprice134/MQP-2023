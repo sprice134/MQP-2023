{
 "cells": [
  {
   "cell_type": "code",
   "execution_count": 56,
   "metadata": {},
   "outputs": [],
   "source": [
    "import matplotlib\n",
    "import matplotlib\n",
    "import pandas as pd\n",
    "import numpy as np\n",
    "import seaborn as sn\n",
    "import matplotlib.pyplot as plt\n",
    "from sklearn.model_selection import train_test_split\n",
    "from sklearn.preprocessing import StandardScaler\n",
    "from sklearn.linear_model import LogisticRegression\n",
    "from sklearn.tree import DecisionTreeClassifier\n",
    "from sklearn.neighbors import KNeighborsRegressor\n",
    "from sklearn.naive_bayes import GaussianNB\n",
    "from sklearn.svm import SVC\n",
    "from sklearn.metrics import mean_absolute_error, mean_squared_error\n",
    "from sklearn.metrics import confusion_matrix\n",
    "from sklearn.model_selection import cross_val_score\n",
    "from sklearn.ensemble import VotingClassifier\n",
    "import time\n",
    "import warnings #to remove the warnings\n",
    "import random\n",
    "import sys\n",
    "sys.path.append('../_hepers_')\n",
    "from genNewVals import generateNewFeatureValMultiple\n",
    "from genSynData import generateSyntheticDataset\n",
    "from subsampleData import subsample\n",
    "from models import trainModels\n",
    "from genFillNulls import *\n",
    "warnings.filterwarnings('ignore')\n"
   ]
  },
  {
   "cell_type": "code",
   "execution_count": 57,
   "metadata": {},
   "outputs": [],
   "source": [
    "def trainF1CrossValModels(X, y, numFolds):\n",
    "    nb = GaussianNB()\n",
    "    nbScores = cross_val_score(nb, X, y, cv=numFolds, scoring='f1')\n",
    "    print('Completed Naive Bayes')\n",
    "    logisticClassifier = LogisticRegression()\n",
    "    logScores = cross_val_score(logisticClassifier, X, y, cv=numFolds, scoring='f1')\n",
    "    print('Completed Logistic Regression')\n",
    "    svclassifier = SVC(kernel='linear')\n",
    "    svmScores = cross_val_score(svclassifier, X, y, cv=numFolds, scoring='f1')\n",
    "    print('Completed SVM')\n",
    "    clf = DecisionTreeClassifier(random_state = 42)\n",
    "    dtScrores = cross_val_score(clf, X, y, cv=numFolds, scoring='f1')\n",
    "    print('Completed Decision Tree')\n",
    "    votingCl = VotingClassifier(\n",
    "                estimators =    [('gnb', GaussianNB()),\n",
    "                                ('lr',  LogisticRegression()),\n",
    "                                ('svm', SVC(kernel='linear')),\n",
    "                                ('dtc', DecisionTreeClassifier(random_state=42))], \n",
    "                voting='hard')\n",
    "    voteScores = cross_val_score(votingCl, X, y, cv=numFolds, scoring='f1')\n",
    "    print('Completed Voting Classification')\n",
    "    return nbScores, logScores, svmScores, dtScrores, voteScores"
   ]
  },
  {
   "cell_type": "code",
   "execution_count": 62,
   "metadata": {},
   "outputs": [
    {
     "name": "stdout",
     "output_type": "stream",
     "text": [
      "(683, 11)\n",
      "Completed Naive Bayes\n",
      "Completed Logistic Regression\n",
      "Completed SVM\n",
      "Completed Decision Tree\n",
      "Completed Voting Classification\n",
      "NB Mean Scores: 0.9436648012303561\n",
      "LR Mean Scores: 0.9517350969333453\n",
      "SVM Mean Scores: 0.9543281747875962\n",
      "DT Mean Scores: 0.8987123314050498\n",
      "VC Mean Scores: 0.9477492279012333\n"
     ]
    }
   ],
   "source": [
    "random.seed(42)\n",
    "np.random.seed(42)\n",
    "raw_df = pd.read_csv('../../Wisconsin_Database/breast-cancer-wisconsin.data', header=None)\n",
    "cols = ['ID', 'Thickness', 'SizeUniformity', 'ShapeUniformity', 'Adhesion', 'Size', 'BareNuclei', 'Bland Chromatin', 'Nucleoli', 'Mitoses', 'Diagnosis']\n",
    "raw_df.columns = cols\n",
    "raw_df['Diagnosis'] = raw_df['Diagnosis'].map(\n",
    "                   {2:0,4:1})\n",
    "\n",
    "temp = []\n",
    "for index, row in raw_df.iterrows():\n",
    "    if '?' not in row.values:\n",
    "        temp.append(row)\n",
    "        \n",
    "df = pd.DataFrame(np.array(temp), columns=cols)\n",
    "df['BareNuclei'] = df['BareNuclei'].astype(np.float)\n",
    "print(df.shape)\n",
    "\n",
    "for i in df:\n",
    "    df[i] = df[i].astype(np.int)\n",
    "\n",
    "\n",
    "X = df[cols[1:-1]]\n",
    "y = df[cols[-1]]\n",
    "rawNBWBC, rawLogWBC, rawSvmWBC, rawlDtWBC, rawVoteWBC = trainF1CrossValModels(X, y, 5)\n",
    "\n",
    "print('NB Mean Scores: {}'.format(np.mean(rawNBWBC)))\n",
    "print('LR Mean Scores: {}'.format(np.mean(rawLogWBC)))\n",
    "print('SVM Mean Scores: {}'.format(np.mean(rawSvmWBC)))\n",
    "print('DT Mean Scores: {}'.format(np.mean(rawlDtWBC)))\n",
    "print('VC Mean Scores: {}'.format(np.mean(rawVoteWBC)))"
   ]
  },
  {
   "cell_type": "code",
   "execution_count": 63,
   "metadata": {},
   "outputs": [
    {
     "name": "stdout",
     "output_type": "stream",
     "text": [
      "(683, 11)\n",
      "Completed Naive Bayes\n",
      "Completed Logistic Regression\n",
      "Completed SVM\n",
      "Completed Decision Tree\n",
      "Completed Voting Classification\n",
      "NB Mean Scores: 0.9582098906169128\n",
      "LR Mean Scores: 1.0\n",
      "SVM Mean Scores: 1.0\n",
      "DT Mean Scores: 1.0\n",
      "VC Mean Scores: 1.0\n"
     ]
    }
   ],
   "source": [
    "random.seed(42)\n",
    "np.random.seed(42)\n",
    "raw_df = pd.read_csv('../../Wisconsin_Database/breast-cancer-wisconsin.data', header=None)\n",
    "cols = ['ID', 'Thickness', 'SizeUniformity', 'ShapeUniformity', 'Adhesion', 'Size', 'BareNuclei', 'Bland Chromatin', 'Nucleoli', 'Mitoses', 'Diagnosis']\n",
    "raw_df.columns = cols\n",
    "raw_df['Diagnosis'] = raw_df['Diagnosis'].map(\n",
    "                   {2:0,4:1})\n",
    "\n",
    "temp = []\n",
    "for index, row in raw_df.iterrows():\n",
    "    if '?' not in row.values:\n",
    "        temp.append(row)\n",
    "        \n",
    "df = pd.DataFrame(np.array(temp), columns=cols)\n",
    "df['BareNuclei'] = df['BareNuclei'].astype(np.float)\n",
    "print(df.shape)\n",
    "\n",
    "for i in df:\n",
    "    df[i] = df[i].astype(np.int)\n",
    "\n",
    "X = df[cols[1:-1]]\n",
    "y = df[cols[-1]]\n",
    "\n",
    "finalDataset = generateSyntheticDataset(X, y, identical = True)\n",
    "X = finalDataset[finalDataset.columns[:-1]]\n",
    "y = finalDataset[finalDataset.columns[-1]]\n",
    "augNBWBC, augLogWBC, augSVMWBC, auglDTWBC, augVoteWBC = trainF1CrossValModels(X, y, 5)\n",
    "\n",
    "print('NB Mean Scores: {}'.format(np.mean(augNBWBC)))\n",
    "print('LR Mean Scores: {}'.format(np.mean(augLogWBC)))\n",
    "print('SVM Mean Scores: {}'.format(np.mean(augSVMWBC)))\n",
    "print('DT Mean Scores: {}'.format(np.mean(auglDTWBC)))\n",
    "print('VC Mean Scores: {}'.format(np.mean(augVoteWBC)))"
   ]
  },
  {
   "cell_type": "code",
   "execution_count": 45,
   "metadata": {},
   "outputs": [
    {
     "data": {
      "image/png": "[encoded data removed]",
      "text/plain": [
       "<Figure size 432x288 with 1 Axes>"
      ]
     },
     "metadata": {
      "needs_background": "light"
     },
     "output_type": "display_data"
    }
   ],
   "source": [
    "import matplotlib.pyplot as plt \n",
    "  \n",
    "models = ['NB','LR','SVM', 'DT', 'VC' ]\n",
    "\n",
    "\n",
    "aug = [np.mean(augNBWBC), np.mean(augLogWBC), np.mean(augSVMWBC),\n",
    "        np.mean(auglDTWBC), np.mean(augVoteWBC)]\n",
    "reg = [np.mean(rawNBWBC), np.mean(rawLogWBC), np.mean(rawSvmWBC),\n",
    "        np.mean(rawlDtWBC), np.mean(rawVoteWBC)]\n",
    "\n",
    "Ygirls = [10,20,20,40]\n",
    "Zboys = [20,30,25,30]\n",
    "  \n",
    "X_axis = np.arange(len(models))\n",
    "  \n",
    "plt.bar(X_axis - 0.2, reg, 0.4, label = 'True Data')\n",
    "plt.bar(X_axis + 0.2, aug, 0.4, label = 'Aug Data')\n",
    "  \n",
    "plt.xticks(X_axis, models)\n",
    "plt.xlabel(\"Model Type\")\n",
    "plt.ylabel(\"Cross Validation F1 Scores\")\n",
    "plt.ylim(0.75,1)\n",
    "plt.title(\"Comparing Performance (F1) on Augmented Data\\nto Raw Data on WBC\")\n",
    "plt.legend(title='Dataset',loc='center left', bbox_to_anchor=(1, 0.5))\n",
    "plt.show()"
   ]
  },
  {
   "cell_type": "code",
   "execution_count": 64,
   "metadata": {},
   "outputs": [
    {
     "name": "stdout",
     "output_type": "stream",
     "text": [
      "(569, 32)\n",
      "Completed Naive Bayes\n",
      "Completed Logistic Regression\n",
      "Completed SVM\n",
      "Completed Decision Tree\n",
      "Completed Voting Classification\n",
      "NB Mean Scores: 1.0\n",
      "LR Mean Scores: 0.8885969782518248\n",
      "SVM Mean Scores: 0.9952374202693125\n",
      "DT Mean Scores: 0.970379129249092\n",
      "VC Mean Scores: 0.9927690100430416\n",
      "2621.86385725\n",
      "2621.885027375\n",
      "2622.1202225\n"
     ]
    }
   ],
   "source": [
    "\n",
    "random.seed(42)\n",
    "np.random.seed(42)\n",
    "startTime = time.perf_counter()\n",
    "cols = ['ID', 'Diagnosis', 'radius', 'texture', 'perimeter', 'area', 'smoothness', 'compactness', 'concavity', 'concave_points', 'symmetry', 'fractal_dimension',\n",
    "        'radius_SE', 'texture_SE', 'perimeter_SE', 'area_SE', 'smoothness_SE', 'compactness_SE', 'concavity_SE', 'concave_points_SE', 'symmetry_SE', 'fractal_dimension_SE',\n",
    "        'radius_MAX', 'texture_MAX', 'perimeter_MAX', 'area_MAX', 'smoothness_MAX', 'compactness_MAX', 'concavity_MAX', 'concave_points_MAX', 'symmetry_MAX', 'fractal_dimension_MAX']\n",
    "df = pd.read_csv('../../Wisconsin_Database/wdbc.data', header=None)\n",
    "\n",
    "df.columns = cols\n",
    "df['Diagnosis'] = df['Diagnosis'].map(\n",
    "                   {'M':True,'B':False})\n",
    "print(df.shape)\n",
    "\n",
    "for i in df:\n",
    "    df[i] = df[i].astype(np.float)\n",
    "\n",
    "X = df[cols[2:]]\n",
    "y = df[cols[1]]\n",
    "\n",
    "finalDataset = generateSyntheticDataset(X, y, identical = True)\n",
    "X = finalDataset[finalDataset.columns[:-1]]\n",
    "y = finalDataset[finalDataset.columns[-1]]\n",
    "completedDataset = time.perf_counter()\n",
    "augNBWDBC, augLogWDBC, augSVMWDBC, auglDTWDBC, augVoteWDBC = trainF1CrossValModels(X, y, 5)\n",
    "completedModels = time.perf_counter()\n",
    "print('NB Mean Scores: {}'.format(np.mean(augNBWDBC)))\n",
    "print('LR Mean Scores: {}'.format(np.mean(augLogWDBC)))\n",
    "print('SVM Mean Scores: {}'.format(np.mean(augSVMWDBC)))\n",
    "print('DT Mean Scores: {}'.format(np.mean(auglDTWDBC)))\n",
    "print('VC Mean Scores: {}'.format(np.mean(augVoteWDBC)))\n",
    "\n",
    "print(startTime)\n",
    "print(completedDataset)\n",
    "print(completedModels)"
   ]
  },
  {
   "cell_type": "code",
   "execution_count": 65,
   "metadata": {},
   "outputs": [
    {
     "name": "stdout",
     "output_type": "stream",
     "text": [
      "(569, 32)\n",
      "Completed Naive Bayes\n",
      "Completed Logistic Regression\n",
      "Completed SVM\n",
      "Completed Decision Tree\n",
      "Completed Voting Classification\n",
      "NB Mean Scores: 0.9148431955884562\n",
      "LR Mean Scores: 0.920787932744157\n",
      "SVM Mean Scores: 0.9250778893538832\n",
      "DT Mean Scores: 0.892378047696254\n",
      "VC Mean Scores: 0.9253457013372625\n",
      "2677.572534416\n",
      "2686.252700375\n"
     ]
    }
   ],
   "source": [
    "random.seed(42)\n",
    "np.random.seed(42)\n",
    "startTime = time.perf_counter()\n",
    "cols = ['ID', 'Diagnosis', 'radius', 'texture', 'perimeter', 'area', 'smoothness', 'compactness', 'concavity', 'concave_points', 'symmetry', 'fractal_dimension',\n",
    "        'radius_SE', 'texture_SE', 'perimeter_SE', 'area_SE', 'smoothness_SE', 'compactness_SE', 'concavity_SE', 'concave_points_SE', 'symmetry_SE', 'fractal_dimension_SE',\n",
    "        'radius_MAX', 'texture_MAX', 'perimeter_MAX', 'area_MAX', 'smoothness_MAX', 'compactness_MAX', 'concavity_MAX', 'concave_points_MAX', 'symmetry_MAX', 'fractal_dimension_MAX']\n",
    "df = pd.read_csv('../../Wisconsin_Database/wdbc.data', header=None)\n",
    "\n",
    "df.columns = cols\n",
    "df['Diagnosis'] = df['Diagnosis'].map(\n",
    "                   {'M':True,'B':False})\n",
    "print(df.shape)\n",
    "\n",
    "for i in df:\n",
    "    df[i] = df[i].astype(np.float)\n",
    "\n",
    "X = df[cols[2:]]\n",
    "y = df[cols[1]]\n",
    "rawNBWDBC, rawLogWDBC, rawSVMWDBC, rawlDTWDBC, rawVoteWDBC = trainF1CrossValModels(X, y, 5)\n",
    "completedModels = time.perf_counter()\n",
    "print('NB Mean Scores: {}'.format(np.mean(rawNBWDBC)))\n",
    "print('LR Mean Scores: {}'.format(np.mean(rawLogWDBC)))\n",
    "print('SVM Mean Scores: {}'.format(np.mean(rawSVMWDBC)))\n",
    "print('DT Mean Scores: {}'.format(np.mean(rawlDTWDBC)))\n",
    "print('VC Mean Scores: {}'.format(np.mean(rawVoteWDBC)))\n",
    "print(startTime)\n",
    "print(completedModels)"
   ]
  },
  {
   "cell_type": "code",
   "execution_count": 66,
   "metadata": {},
   "outputs": [
    {
     "data": {
      "image/png": "[encoded data removed]",
      "text/plain": [
       "<Figure size 432x288 with 1 Axes>"
      ]
     },
     "metadata": {
      "needs_background": "light"
     },
     "output_type": "display_data"
    }
   ],
   "source": [
    "import matplotlib.pyplot as plt \n",
    "  \n",
    "models = ['NB','LR','SVM', 'DT', 'VC' ]\n",
    "\n",
    "\n",
    "aug = [np.mean(augNBWDBC), np.mean(augLogWDBC), np.mean(augSVMWDBC),\n",
    "        np.mean(auglDTWDBC), np.mean(augVoteWDBC)]\n",
    "reg = [np.mean(rawNBWDBC), np.mean(rawLogWDBC), np.mean(rawSVMWDBC),\n",
    "        np.mean(rawlDTWDBC), np.mean(rawVoteWDBC)]\n",
    "        \n",
    "X_axis = np.arange(len(models))\n",
    "  \n",
    "plt.bar(X_axis - 0.2, reg, 0.4, label = 'True Data')\n",
    "plt.bar(X_axis + 0.2, aug, 0.4, label = 'Aug Data')\n",
    "  \n",
    "plt.xticks(X_axis, models)\n",
    "plt.xlabel(\"Model Type\")\n",
    "plt.ylabel(\"Cross Validation F1 Scores\")\n",
    "plt.ylim(0.75,1)\n",
    "plt.title(\"Comparing Performance (F1) on Augmented Data\\nto Raw Data on WDBC (With Correlation Left In)\")\n",
    "plt.legend(title='Dataset',loc='center left', bbox_to_anchor=(1, 0.5))\n",
    "plt.show()"
   ]
  },
  {
   "cell_type": "code",
   "execution_count": 68,
   "metadata": {},
   "outputs": [
    {
     "name": "stdout",
     "output_type": "stream",
     "text": [
      "Completed Naive Bayes\n",
      "Completed Logistic Regression\n",
      "Completed SVM\n",
      "Completed Decision Tree\n",
      "Completed Voting Classification\n",
      "NB Mean Scores: 0.9010550126203751\n",
      "LR Mean Scores: 0.9243884629426798\n",
      "SVM Mean Scores: 0.9371737391999903\n",
      "DT Mean Scores: 0.8909263125607272\n",
      "VC Mean Scores: 0.9300339167005832\n"
     ]
    }
   ],
   "source": [
    "cols = ['ID', 'Diagnosis', 'radius', 'texture', 'perimeter', 'area', 'smoothness', 'compactness', 'concavity', 'concave_points', 'symmetry', 'fractal_dimension',\n",
    "        'radius_SE', 'texture_SE', 'perimeter_SE', 'area_SE', 'smoothness_SE', 'compactness_SE', 'concavity_SE', 'concave_points_SE', 'symmetry_SE', 'fractal_dimension_SE',\n",
    "        'radius_MAX', 'texture_MAX', 'perimeter_MAX', 'area_MAX', 'smoothness_MAX', 'compactness_MAX', 'concavity_MAX', 'concave_points_MAX', 'symmetry_MAX', 'fractal_dimension_MAX']\n",
    "df = pd.read_csv('../../Wisconsin_Database/wdbc.data', header=None)\n",
    "\n",
    "df.columns = cols\n",
    "df['Diagnosis'] = df['Diagnosis'].map(\n",
    "                   {'M':True,'B':False})\n",
    "#Columns Identified by Correlation Matrix\n",
    "#When Columns were correlated, that which was most correlated with the target variable (Diagnosis)\n",
    "#Was Kept\n",
    "colsInUse = ['ID', 'Diagnosis', 'texture', 'smoothness', 'symmetry', 'fractal_dimension', \n",
    "                'radius_SE', 'texture_SE', 'smoothness_SE', 'compactness_SE', 'concavity_SE', 'concave_points_SE', 'symmetry_SE', 'fractal_dimension_SE',\n",
    "                'texture_MAX', 'perimeter_MAX', 'smoothness_MAX', 'compactness_MAX', 'concavity_MAX', 'concave_points_MAX', 'symmetry_MAX', 'fractal_dimension_MAX']\n",
    "\n",
    "df = df[colsInUse]\n",
    "\n",
    "for i in df:\n",
    "    df[i] = df[i].astype(np.float)\n",
    "\n",
    "X = df[colsInUse[2:]]\n",
    "y = df[colsInUse[1]]\n",
    "rawNBWDBC_stripped, rawLogWDBC_stripped, rawSVMWDBC_stripped, rawlDTWDBC_stripped, rawVoteWDBC_stripped = trainF1CrossValModels(X, y, 5)\n",
    "completedModels = time.perf_counter()\n",
    "print('NB Mean Scores: {}'.format(np.mean(rawNBWDBC_stripped)))\n",
    "print('LR Mean Scores: {}'.format(np.mean(rawLogWDBC_stripped)))\n",
    "print('SVM Mean Scores: {}'.format(np.mean(rawSVMWDBC_stripped)))\n",
    "print('DT Mean Scores: {}'.format(np.mean(rawlDTWDBC_stripped)))\n",
    "print('VC Mean Scores: {}'.format(np.mean(rawVoteWDBC_stripped)))"
   ]
  },
  {
   "cell_type": "code",
   "execution_count": 71,
   "metadata": {},
   "outputs": [
    {
     "name": "stdout",
     "output_type": "stream",
     "text": [
      "Completed Naive Bayes\n",
      "Completed Logistic Regression\n",
      "Completed SVM\n",
      "Completed Decision Tree\n",
      "Completed Voting Classification\n",
      "NB Mean Scores: 0.988289384719405\n",
      "LR Mean Scores: 0.9662034899178595\n",
      "SVM Mean Scores: 0.9760183591508893\n",
      "DT Mean Scores: 0.9577218681646524\n",
      "VC Mean Scores: 0.9734939759036145\n"
     ]
    }
   ],
   "source": [
    "cols = ['ID', 'Diagnosis', 'radius', 'texture', 'perimeter', 'area', 'smoothness', 'compactness', 'concavity', 'concave_points', 'symmetry', 'fractal_dimension',\n",
    "        'radius_SE', 'texture_SE', 'perimeter_SE', 'area_SE', 'smoothness_SE', 'compactness_SE', 'concavity_SE', 'concave_points_SE', 'symmetry_SE', 'fractal_dimension_SE',\n",
    "        'radius_MAX', 'texture_MAX', 'perimeter_MAX', 'area_MAX', 'smoothness_MAX', 'compactness_MAX', 'concavity_MAX', 'concave_points_MAX', 'symmetry_MAX', 'fractal_dimension_MAX']\n",
    "df = pd.read_csv('../../Wisconsin_Database/wdbc.data', header=None)\n",
    "\n",
    "df.columns = cols\n",
    "df['Diagnosis'] = df['Diagnosis'].map(\n",
    "                   {'M':True,'B':False})\n",
    "#Columns Identified by Correlation Matrix\n",
    "#When Columns were correlated, that which was most correlated with the target variable (Diagnosis)\n",
    "#Was Kept\n",
    "colsInUse = ['ID', 'Diagnosis', 'texture', 'smoothness', 'symmetry', 'fractal_dimension', \n",
    "                'radius_SE', 'texture_SE', 'smoothness_SE', 'compactness_SE', 'concavity_SE', 'concave_points_SE', 'symmetry_SE', 'fractal_dimension_SE',\n",
    "                'texture_MAX', 'perimeter_MAX', 'smoothness_MAX', 'compactness_MAX', 'concavity_MAX', 'concave_points_MAX', 'symmetry_MAX', 'fractal_dimension_MAX']\n",
    "\n",
    "df = df[colsInUse]\n",
    "\n",
    "for i in df:\n",
    "    df[i] = df[i].astype(np.float)\n",
    "\n",
    "X = df[colsInUse[2:]]\n",
    "y = df[colsInUse[1]]\n",
    "finalDataset = generateSyntheticDataset(X, y, identical = True)\n",
    "X = finalDataset[finalDataset.columns[:-1]]\n",
    "y = finalDataset[finalDataset.columns[-1]]\n",
    "\n",
    "augNBWDBC_stripped, augLogWDBC_stripped, augSVMWDBC_stripped, auglDTWDBC_stripped, augVoteWDBC_stripped = trainF1CrossValModels(X, y, 5)\n",
    "\n",
    "print('NB Mean Scores: {}'.format(np.mean(augNBWDBC_stripped)))\n",
    "print('LR Mean Scores: {}'.format(np.mean(augLogWDBC_stripped)))\n",
    "print('SVM Mean Scores: {}'.format(np.mean(augSVMWDBC_stripped)))\n",
    "print('DT Mean Scores: {}'.format(np.mean(auglDTWDBC_stripped)))\n",
    "print('VC Mean Scores: {}'.format(np.mean(augVoteWDBC_stripped)))"
   ]
  },
  {
   "cell_type": "code",
   "execution_count": 72,
   "metadata": {},
   "outputs": [
    {
     "data": {
      "image/png": "[encoded data removed]",
      "text/plain": [
       "<Figure size 432x288 with 1 Axes>"
      ]
     },
     "metadata": {
      "needs_background": "light"
     },
     "output_type": "display_data"
    }
   ],
   "source": [
    "import matplotlib.pyplot as plt \n",
    "  \n",
    "models = ['NB','LR','SVM', 'DT', 'VC' ]\n",
    "\n",
    "aug = [np.mean(augNBWDBC_stripped), np.mean(augLogWDBC_stripped), np.mean(augSVMWDBC_stripped),\n",
    "        np.mean(auglDTWDBC_stripped), np.mean(augVoteWDBC_stripped)]\n",
    "reg = [np.mean(rawNBWDBC_stripped), np.mean(rawLogWDBC_stripped), np.mean(rawSVMWDBC_stripped),\n",
    "        np.mean(rawlDTWDBC_stripped), np.mean(rawVoteWDBC_stripped)]\n",
    "        \n",
    "X_axis = np.arange(len(models))\n",
    "  \n",
    "plt.bar(X_axis - 0.2, reg, 0.4, label = 'True Data')\n",
    "plt.bar(X_axis + 0.2, aug, 0.4, label = 'Aug Data')\n",
    "  \n",
    "plt.xticks(X_axis, models)\n",
    "plt.xlabel(\"Model Type\")\n",
    "plt.ylabel(\"Cross Validation F1 Scores\")\n",
    "plt.ylim(0.75,1)\n",
    "plt.title(\"Comparing Performance (F1) on Augmented Data\\nto Raw Data on WDBC (With Correlation Removed)\")\n",
    "plt.legend(title='Dataset',loc='center left', bbox_to_anchor=(1, 0.5))\n",
    "plt.show()"
   ]
  }
 ],
 "metadata": {
  "kernelspec": {
   "display_name": "Python 3.9.7 ('base')",
   "language": "python",
   "name": "python3"
  },
  "language_info": {
   "codemirror_mode": {
    "name": "ipython",
    "version": 3
   },
   "file_extension": ".py",
   "mimetype": "text/x-python",
   "name": "python",
   "nbconvert_exporter": "python",
   "pygments_lexer": "ipython3",
   "version": "3.9.7"
  },
  "orig_nbformat": 4,
  "vscode": {
   "interpreter": {
    "hash": "a21a4d8430ca198249bdb796151de090f5777c48c0e324da81ff190d429db2a2"
   }
  }
 },
 "nbformat": 4,
 "nbformat_minor": 2
}

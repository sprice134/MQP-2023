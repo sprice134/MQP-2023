{
 "cells": [
  {
   "cell_type": "code",
   "execution_count": 2,
   "metadata": {},
   "outputs": [],
   "source": [
    "import matplotlib\n",
    "import matplotlib\n",
    "import pandas as pd\n",
    "import numpy as np\n",
    "import seaborn as sn\n",
    "import matplotlib.pyplot as plt\n",
    "from sklearn.model_selection import train_test_split\n",
    "from sklearn.preprocessing import StandardScaler\n",
    "from sklearn.linear_model import LogisticRegression\n",
    "from sklearn.tree import DecisionTreeClassifier\n",
    "from sklearn.neighbors import KNeighborsRegressor\n",
    "from sklearn.naive_bayes import GaussianNB\n",
    "from sklearn.svm import SVC\n",
    "from sklearn.metrics import mean_absolute_error, mean_squared_error\n",
    "from sklearn.metrics import confusion_matrix\n",
    "from sklearn.model_selection import cross_val_score\n",
    "from sklearn.ensemble import VotingClassifier\n",
    "\n",
    "import warnings #to remove the warnings\n",
    "import random\n",
    "import sys\n",
    "sys.path.append('../_hepers_')\n",
    "from genNewVals import generateNewFeatureValMultiple\n",
    "from genSynData import generateSyntheticDataset\n",
    "from subsampleData import subsample\n",
    "from models import trainModels\n",
    "from f1Models import trainF1CrossValModels\n",
    "from genFillNulls import *\n",
    "warnings.filterwarnings('ignore')\n",
    "numberOfBins = 25\n"
   ]
  },
  {
   "cell_type": "code",
   "execution_count": 3,
   "metadata": {},
   "outputs": [
    {
     "name": "stdout",
     "output_type": "stream",
     "text": [
      "(59, 32)\n"
     ]
    }
   ],
   "source": [
    "\n",
    "cervical_df = pd.read_csv('risk_factors_cervical_cancer.csv')\n",
    "\n",
    "cervicalCols = ['Age', 'Number of sexual partners', 'First sexual intercourse',\n",
    "                'Num of pregnancies', 'Smokes', 'Smokes (years)', 'Smokes (packs/year)',\n",
    "                'Hormonal Contraceptives', 'Hormonal Contraceptives (years)', 'IUD',\n",
    "                'IUD (years)', 'STDs (number)', 'STDs:condylomatosis',\n",
    "                'STDs:vaginal condylomatosis', 'STDs:vulvo-perineal condylomatosis',\n",
    "                'STDs:syphilis', 'STDs:pelvic inflammatory disease',\n",
    "                'STDs:genital herpes', 'STDs:molluscum contagiosum', 'STDs:HIV',\n",
    "                'STDs:Hepatitis B', 'STDs:HPV', 'STDs: Number of diagnosis',\n",
    "                'STDs: Time since first diagnosis', 'STDs: Time since last diagnosis',\n",
    "                'Dx:Cancer', 'Dx:HPV', 'Dx', 'Hinselmann', 'Schiller', 'Citology',\n",
    "                'Biopsy']\n",
    "\n",
    "cervical_df = pd.read_csv('risk_factors_cervical_cancer.csv')\n",
    "cervical_df = cervical_df[cervicalCols]\n",
    "cervicalAllNullsRemoved = removeEntriesWithNulls(cervical_df)\n",
    "print(cervicalAllNullsRemoved.shape)\n"
   ]
  },
  {
   "cell_type": "code",
   "execution_count": 4,
   "metadata": {},
   "outputs": [
    {
     "name": "stdout",
     "output_type": "stream",
     "text": [
      "Iteration: 0\n",
      "Iteration: 1\n",
      "Iteration: 2\n",
      "Iteration: 3\n",
      "Iteration: 4\n",
      "Iteration: 5\n",
      "Iteration: 6\n",
      "Iteration: 7\n",
      "Iteration: 8\n",
      "Iteration: 9\n",
      "KNN - Min: 0.75, Max: 0.9166666666666666, Avg: 0.8666666666666668\n",
      "NB  - Min: 0.4166666666666667, Max: 0.75, Avg: 0.6000000000000001\n",
      "LR  - Min: 0.6666666666666666, Max: 0.9166666666666666, Avg: 0.825\n",
      "SVM - Min: 0.6666666666666666, Max: 0.9166666666666666, Avg: 0.8083333333333333\n",
      "DT  - Min: 0.6666666666666666, Max: 0.9166666666666666, Avg: 0.8\n",
      "VC  - Min: 0.75, Max: 0.9166666666666666, Avg: 0.8500000000000002\n"
     ]
    }
   ],
   "source": [
    "knnCER = []\n",
    "nbCER = []\n",
    "lrCER = []\n",
    "svmCER = []\n",
    "dtCER = []\n",
    "vcCER = []\n",
    "for i in range(10):\n",
    "    X = cervicalAllNullsRemoved[cervicalCols[:-4]]\n",
    "    y = cervicalAllNullsRemoved[cervicalCols[-1]]\n",
    "\n",
    "    SEED = 42 + i\n",
    "    X_train, X_test, y_train, y_test = train_test_split(X, y, test_size=0.20, random_state=SEED)\n",
    "    #print('Augmented X Train: {}'.format(X_train.shape))\n",
    "    #print('Augmented y_train: {}'.format(y_train.shape))\n",
    "    scaler = StandardScaler()\n",
    "\n",
    "    scores = trainModels(X_train, X_test, y_train, y_test)\n",
    "    knnCER.append(scores[0])\n",
    "    nbCER.append(scores[1])\n",
    "    lrCER.append(scores[2])\n",
    "    svmCER.append(scores[3])\n",
    "    dtCER.append(scores[4])\n",
    "    vcCER.append(scores[5])\n",
    "    print('Iteration: {}'.format(i))\n",
    "\n",
    "\n",
    "print('KNN - Min: {}, Max: {}, Avg: {}'.format(min(knnCER), max(knnCER), sum(knnCER)/len(knnCER)))\n",
    "#print('   Best Seed: {}'.format(42 + knnScores.index(max(knnScores))))\n",
    "print('NB  - Min: {}, Max: {}, Avg: {}'.format(min(nbCER), max(nbCER), sum(nbCER)/len(nbCER)))\n",
    "#print('   Best Seed: {}'.format(42 + naiveBaysScores.index(max(naiveBaysScores))))\n",
    "print('LR  - Min: {}, Max: {}, Avg: {}'.format(min(lrCER), max(lrCER), sum(lrCER)/len(lrCER)))\n",
    "#print('   Best Seed: {}'.format(42 + logisticRegressionScores.index(max(logisticRegressionScores))))\n",
    "print('SVM - Min: {}, Max: {}, Avg: {}'.format(min(svmCER), max(svmCER), sum(svmCER)/len(svmCER)))\n",
    "#print('   Best Seed: {}'.format(42 + svmRegressionScores.index(max(svmRegressionScores))))\n",
    "print('DT  - Min: {}, Max: {}, Avg: {}'.format(min(dtCER), max(dtCER), sum(dtCER)/len(dtCER)))\n",
    "#print('   Best Seed: {}'.format(42 + decisionTreeRegressionScores.index(max(decisionTreeRegressionScores))))\n",
    "print('VC  - Min: {}, Max: {}, Avg: {}'.format(min(vcCER), max(vcCER), sum(vcCER)/len(vcCER)))\n",
    "#print('   Best Seed: {}'.format(42 + decisionTreeRegressionScores.index(max(decisionTreeRegressionScores))))"
   ]
  },
  {
   "cell_type": "code",
   "execution_count": 5,
   "metadata": {},
   "outputs": [
    {
     "name": "stdout",
     "output_type": "stream",
     "text": [
      "(858, 32)\n"
     ]
    }
   ],
   "source": [
    "\n",
    "cervical_df = pd.read_csv('risk_factors_cervical_cancer.csv')\n",
    "cervical_df = cervical_df[cervicalCols]\n",
    "cervicalAllNullsSyntheticFilled = genSyntheticFillNulls(cervical_df)\n",
    "print(cervicalAllNullsSyntheticFilled.shape)\n",
    "\n",
    "for i in cervicalAllNullsSyntheticFilled:\n",
    "        cervicalAllNullsSyntheticFilled[i] = cervicalAllNullsSyntheticFilled[i].astype(np.float)"
   ]
  },
  {
   "cell_type": "code",
   "execution_count": 7,
   "metadata": {},
   "outputs": [
    {
     "name": "stdout",
     "output_type": "stream",
     "text": [
      "Iteration: 0\n",
      "Iteration: 1\n",
      "Iteration: 2\n",
      "Iteration: 3\n",
      "Iteration: 4\n",
      "Iteration: 5\n",
      "Iteration: 6\n",
      "Iteration: 7\n",
      "Iteration: 8\n",
      "Iteration: 9\n",
      "KNN - Min: 0.9244186046511628, Max: 0.9709302325581395, Avg: 0.9459302325581396\n",
      "NB  - Min: 0.1511627906976744, Max: 0.4011627906976744, Avg: 0.23895348837209301\n",
      "LR  - Min: 0.9244186046511628, Max: 0.9709302325581395, Avg: 0.9424418604651162\n",
      "SVM - Min: 0.9244186046511628, Max: 0.9709302325581395, Avg: 0.9459302325581396\n",
      "DT  - Min: 0.8430232558139535, Max: 0.9186046511627907, Avg: 0.8796511627906979\n",
      "VC  - Min: 0.9244186046511628, Max: 0.9709302325581395, Avg: 0.9430232558139535\n"
     ]
    }
   ],
   "source": [
    "augKnnCER = []\n",
    "augNbCER = []\n",
    "augLrCER = []\n",
    "augSvmCER = []\n",
    "augDtCER = []\n",
    "augVcCER = []\n",
    "for i in range(10):\n",
    "    X = cervicalAllNullsSyntheticFilled[cervicalCols[:-4]]\n",
    "    y = cervicalAllNullsSyntheticFilled[cervicalCols[-1]]\n",
    "\n",
    "    SEED = 42 + i\n",
    "    X_train, X_test, y_train, y_test = train_test_split(X, y, test_size=0.20, random_state=SEED)\n",
    "    #print('Augmented X Train: {}'.format(X_train.shape))\n",
    "    #print('Augmented y_train: {}'.format(y_train.shape))\n",
    "    scores = trainModels(X_train, X_test, y_train, y_test)\n",
    "    augKnnCER.append(scores[0])\n",
    "    augNbCER.append(scores[1])\n",
    "    augLrCER.append(scores[2])\n",
    "    augSvmCER.append(scores[3])\n",
    "    augDtCER.append(scores[4])\n",
    "    augVcCER.append(scores[5])\n",
    "    print('Iteration: {}'.format(i))\n",
    "\n",
    "\n",
    "print('KNN - Min: {}, Max: {}, Avg: {}'.format(min(augKnnCER), max(augKnnCER), sum(augKnnCER)/len(augKnnCER)))\n",
    "#print('   Best Seed: {}'.format(42 + knnScores.index(max(knnScores))))\n",
    "print('NB  - Min: {}, Max: {}, Avg: {}'.format(min(augNbCER), max(augNbCER), sum(augNbCER)/len(augNbCER)))\n",
    "#print('   Best Seed: {}'.format(42 + naiveBaysScores.index(max(naiveBaysScores))))\n",
    "print('LR  - Min: {}, Max: {}, Avg: {}'.format(min(augLrCER), max(augLrCER), sum(augLrCER)/len(augLrCER)))\n",
    "#print('   Best Seed: {}'.format(42 + logisticRegressionScores.index(max(logisticRegressionScores))))\n",
    "print('SVM - Min: {}, Max: {}, Avg: {}'.format(min(augSvmCER), max(augSvmCER), sum(augSvmCER)/len(augSvmCER)))\n",
    "#print('   Best Seed: {}'.format(42 + svmRegressionScores.index(max(svmRegressionScores))))\n",
    "print('DT  - Min: {}, Max: {}, Avg: {}'.format(min(augDtCER), max(augDtCER), sum(augDtCER)/len(augDtCER)))\n",
    "#print('   Best Seed: {}'.format(42 + decisionTreeRegressionScores.index(max(decisionTreeRegressionScores))))\n",
    "print('VC  - Min: {}, Max: {}, Avg: {}'.format(min(augVcCER), max(augVcCER), sum(augVcCER)/len(augVcCER)))\n",
    "#print('   Best Seed: {}'.format(42 + decisionTreeRegressionScores.index(max(decisionTreeRegressionScores))))"
   ]
  },
  {
   "cell_type": "code",
   "execution_count": 4,
   "metadata": {},
   "outputs": [
    {
     "name": "stdout",
     "output_type": "stream",
     "text": [
      "(858, 32)\n"
     ]
    }
   ],
   "source": [
    "\n",
    "cervical_df = pd.read_csv('risk_factors_cervical_cancer.csv')\n",
    "cervical_df = cervical_df[cervicalCols]\n",
    "cervicalAllNullsSyntheticFilled = genSyntheticFillNulls(cervical_df)\n",
    "print(cervicalAllNullsSyntheticFilled.shape)\n",
    "\n",
    "for i in cervicalAllNullsSyntheticFilled:\n",
    "        cervicalAllNullsSyntheticFilled[i] = cervicalAllNullsSyntheticFilled[i].astype(np.float)"
   ]
  },
  {
   "cell_type": "code",
   "execution_count": 10,
   "metadata": {},
   "outputs": [
    {
     "name": "stdout",
     "output_type": "stream",
     "text": [
      "Iteration: 0\n",
      "Iteration: 1\n",
      "Iteration: 2\n",
      "Iteration: 3\n",
      "Iteration: 4\n",
      "Iteration: 5\n",
      "Iteration: 6\n",
      "Iteration: 7\n",
      "Iteration: 8\n",
      "Iteration: 9\n",
      "KNN - Min: 0.9244186046511628, Max: 0.9709302325581395, Avg: 0.9459302325581396\n",
      "[0.936046511627907, 0.9534883720930233, 0.9534883720930233, 0.936046511627907, 0.9476744186046512, 0.9593023255813954, 0.9418604651162791, 0.9244186046511628, 0.936046511627907, 0.9709302325581395]\n",
      "NB  - Min: 0.14534883720930233, Max: 0.936046511627907, Avg: 0.2825581395348837\n",
      "[0.20348837209302326, 0.19767441860465115, 0.22674418604651161, 0.936046511627907, 0.20930232558139536, 0.22674418604651161, 0.14534883720930233, 0.22674418604651161, 0.2616279069767442, 0.19186046511627908]\n",
      "LR  - Min: 0.4418604651162791, Max: 0.9534883720930233, Avg: 0.869186046511628\n",
      "[0.4418604651162791, 0.8895348837209303, 0.9011627906976745, 0.9069767441860465, 0.9244186046511628, 0.9534883720930233, 0.9244186046511628, 0.9127906976744186, 0.9011627906976745, 0.936046511627907]\n",
      "SVM - Min: 0.1686046511627907, Max: 0.9709302325581395, Avg: 0.7127906976744187\n",
      "[0.18604651162790697, 0.1686046511627907, 0.9534883720930233, 0.1686046511627907, 0.9476744186046512, 0.9593023255813954, 0.9127906976744186, 0.9244186046511628, 0.936046511627907, 0.9709302325581395]\n",
      "DT  - Min: 0.14534883720930233, Max: 0.22093023255813954, Avg: 0.17848837209302326\n",
      "[0.1511627906976744, 0.16279069767441862, 0.1569767441860465, 0.19767441860465115, 0.19767441860465115, 0.18023255813953487, 0.14534883720930233, 0.19186046511627908, 0.22093023255813954, 0.18023255813953487]\n",
      "VC  - Min: 0.26744186046511625, Max: 0.9593023255813954, Avg: 0.8186046511627907\n",
      "[0.45930232558139533, 0.26744186046511625, 0.9534883720930233, 0.9069767441860465, 0.9476744186046512, 0.9593023255813954, 0.9069767441860465, 0.9244186046511628, 0.9069767441860465, 0.9534883720930233]\n"
     ]
    }
   ],
   "source": [
    "augBalKnnCER = []\n",
    "augBalNbCER = []\n",
    "augBalLrCER = []\n",
    "augBalSvmCER = []\n",
    "augBalDtCER = []\n",
    "augBalVcCER = []\n",
    "for i in range(10):\n",
    "    cervical_df = pd.read_csv('risk_factors_cervical_cancer.csv')\n",
    "    cervical_df = cervical_df[cervicalCols]\n",
    "    cervicalAllNullsSyntheticFilled = genSyntheticFillNulls(cervical_df)\n",
    "\n",
    "    for j in cervicalAllNullsSyntheticFilled:\n",
    "        cervicalAllNullsSyntheticFilled[j] = cervicalAllNullsSyntheticFilled[j].astype(np.float)\n",
    "    X = cervicalAllNullsSyntheticFilled[cervicalCols[:-4]]\n",
    "    y = cervicalAllNullsSyntheticFilled[cervicalCols[-1]]\n",
    "\n",
    "    SEED = 42 + i\n",
    "    X_train, X_test, y_train, y_test = train_test_split(X, y, test_size=0.20, random_state=SEED)\n",
    "    #print('Augmented X Train: {}'.format(X_train.shape))\n",
    "    #print('Augmented y_train: {}'.format(y_train.shape))\n",
    "    numClassSamples = len(y_train) - sum(y_train)\n",
    "    finalDataset = generateSyntheticDataset(X_train, y_train,  numBenign = numClassSamples, numMalig = numClassSamples)\n",
    "    X_train = finalDataset[finalDataset.columns[:-1]]\n",
    "    y_train = finalDataset[finalDataset.columns[-1]]\n",
    "    #print('Augmented X Train: {}'.format(X_train.shape))\n",
    "    #print('Augmented y_train: {}'.format(y_train.shape))\n",
    "    scores = trainModels(X_train, X_test, y_train, y_test)\n",
    "    augBalKnnCER.append(scores[0])\n",
    "    augBalNbCER.append(scores[1])\n",
    "    augBalLrCER.append(scores[2])\n",
    "    augBalSvmCER.append(scores[3])\n",
    "    augBalDtCER.append(scores[4])\n",
    "    augBalVcCER.append(scores[5])\n",
    "    print('Iteration: {}'.format(i))\n",
    "\n",
    "\n",
    "print('KNN - Min: {}, Max: {}, Avg: {}'.format(min(augBalKnnCER), max(augBalKnnCER), sum(augBalKnnCER)/len(augBalKnnCER)))\n",
    "print(augBalKnnCER)\n",
    "#print('   Best Seed: {}'.format(42 + knnScores.index(max(knnScores))))\n",
    "print('NB  - Min: {}, Max: {}, Avg: {}'.format(min(augBalNbCER), max(augBalNbCER), sum(augBalNbCER)/len(augBalNbCER)))\n",
    "print(augBalNbCER)\n",
    "#print('   Best Seed: {}'.format(42 + naiveBaysScores.index(max(naiveBaysScores))))\n",
    "print('LR  - Min: {}, Max: {}, Avg: {}'.format(min(augBalLrCER), max(augBalLrCER), sum(augBalLrCER)/len(augBalLrCER)))\n",
    "print(augBalLrCER)\n",
    "#print('   Best Seed: {}'.format(42 + logisticRegressionScores.index(max(logisticRegressionScores))))\n",
    "print('SVM - Min: {}, Max: {}, Avg: {}'.format(min(augBalSvmCER), max(augBalSvmCER), sum(augBalSvmCER)/len(augBalSvmCER)))\n",
    "print(augBalSvmCER)\n",
    "#print('   Best Seed: {}'.format(42 + svmRegressionScores.index(max(svmRegressionScores))))\n",
    "print('DT  - Min: {}, Max: {}, Avg: {}'.format(min(augBalDtCER), max(augBalDtCER), sum(augBalDtCER)/len(augBalDtCER)))\n",
    "print(augBalDtCER)\n",
    "#print('   Best Seed: {}'.format(42 + decisionTreeRegressionScores.index(max(decisionTreeRegressionScores))))\n",
    "print('VC  - Min: {}, Max: {}, Avg: {}'.format(min(augBalVcCER), max(augBalVcCER), sum(augBalVcCER)/len(augBalVcCER)))\n",
    "print(augBalVcCER)\n",
    "#print('   Best Seed: {}'.format(42 + decisionTreeRegressionScores.index(max(decisionTreeRegressionScores))))"
   ]
  },
  {
   "cell_type": "code",
   "execution_count": 10,
   "metadata": {},
   "outputs": [
    {
     "data": {
      "image/png": "[encoded data removed]",
      "text/plain": [
       "<Figure size 432x288 with 1 Axes>"
      ]
     },
     "metadata": {
      "needs_background": "light"
     },
     "output_type": "display_data"
    }
   ],
   "source": [
    "X = ['KNN','NB','LR','SVM', 'DT', 'VC' ]\n",
    "\n",
    "aug = [np.mean(augKnnCER), np.mean(augNbCER), np.mean(augLrCER),\n",
    "        np.mean(augSvmCER), np.mean(augDtCER), np.mean(augVcCER)]\n",
    "reg = [np.mean(knnCER), np.mean(nbCER), np.mean(lrCER),\n",
    "        np.mean(svmCER), np.mean(dtCER), np.mean(vcCER)]\n",
    "\n",
    "Ygirls = [10,20,20,40]\n",
    "Zboys = [20,30,25,30]\n",
    "  \n",
    "X_axis = np.arange(len(X))\n",
    "  \n",
    "plt.bar(X_axis - 0.2, reg, 0.4, label = 'Deleting Entries')\n",
    "plt.bar(X_axis + 0.2, aug, 0.4, label = 'Synthetically\\nFilling Entries')\n",
    "  \n",
    "plt.xticks(X_axis, X)\n",
    "plt.xlabel(\"Model Type\")\n",
    "plt.ylabel(\"Cross Validation Accuracy\")\n",
    "plt.ylim(0,1)\n",
    "plt.title(\"Comparing Performance on Cervical Cancer with Augmented Data to\\n Raw Data on WDBC (With Correlation Removed)\")\n",
    "plt.legend(title='Dataset',loc='center left', bbox_to_anchor=(1, 0.5))\n",
    "plt.show()"
   ]
  },
  {
   "cell_type": "code",
   "execution_count": 4,
   "metadata": {},
   "outputs": [
    {
     "name": "stdout",
     "output_type": "stream",
     "text": [
      "(1606, 28)\n",
      "NB Mean Scores: 0.9885886329701549\n",
      "LR Mean Scores: 0.7373569573066896\n",
      "SVM Mean Scores: 0.9049906723810434\n",
      "DT Mean Scores: 1.0\n",
      "VC Mean Scores: 0.931671360514884\n"
     ]
    }
   ],
   "source": [
    "random.seed(42)\n",
    "np.random.seed(42)\n",
    "cervical_df = pd.read_csv('risk_factors_cervical_cancer.csv')\n",
    "cervicalCols = ['Age', 'Number of sexual partners', 'First sexual intercourse',\n",
    "                'Num of pregnancies', 'Smokes', 'Smokes (years)', 'Smokes (packs/year)',\n",
    "                'Hormonal Contraceptives', 'Hormonal Contraceptives (years)', 'IUD',\n",
    "                'IUD (years)', 'STDs (number)', 'STDs:condylomatosis',\n",
    "                'STDs:vaginal condylomatosis', 'STDs:vulvo-perineal condylomatosis',\n",
    "                'STDs:syphilis', 'STDs:pelvic inflammatory disease',\n",
    "                'STDs:genital herpes', 'STDs:molluscum contagiosum', 'STDs:HIV',\n",
    "                'STDs:Hepatitis B', 'STDs:HPV', 'STDs: Number of diagnosis',\n",
    "                'STDs: Time since first diagnosis', 'STDs: Time since last diagnosis',\n",
    "                'Dx:Cancer', 'Dx:HPV', 'Dx', 'Hinselmann', 'Schiller', 'Citology',\n",
    "                'Diagnosis']\n",
    "cervical_df.rename(columns = {'Biopsy':'Diagnosis'}, inplace = True)\n",
    "cervicalAllNullsSyntheticFilled = genSyntheticFillNulls(cervical_df)\n",
    "for j in cervicalAllNullsSyntheticFilled:\n",
    "    cervicalAllNullsSyntheticFilled[j] = cervicalAllNullsSyntheticFilled[j].astype(np.float)\n",
    "X = cervicalAllNullsSyntheticFilled[cervicalCols[:-4]]\n",
    "y = cervicalAllNullsSyntheticFilled[cervicalCols[-1]]\n",
    "numClassSamples = int(max((len(y) - sum(y)), sum(y)))\n",
    "finalDataset = generateSyntheticDataset(X, y,  identical = False, numBenign = numClassSamples, numMalig = numClassSamples)\n",
    "X = finalDataset[finalDataset.columns[:-1]]\n",
    "y = finalDataset[finalDataset.columns[-1]]\n",
    "print(X.shape)\n",
    "\n",
    "balNullFillNB, balNullFillLog, balNullFillSVM, balNullFillDT, balNullFillVote = trainF1CrossValModels(X, y)\n",
    "\n",
    "print('NB Mean Scores: {}'.format(np.mean(balNullFillNB)))\n",
    "print('LR Mean Scores: {}'.format(np.mean(balNullFillLog)))\n",
    "print('SVM Mean Scores: {}'.format(np.mean(balNullFillSVM)))\n",
    "print('DT Mean Scores: {}'.format(np.mean(balNullFillDT)))\n",
    "print('VC Mean Scores: {}'.format(np.mean(balNullFillVote)))\n"
   ]
  },
  {
   "cell_type": "code",
   "execution_count": null,
   "metadata": {},
   "outputs": [],
   "source": [
    "random.seed(42)\n",
    "np.random.seed(42)\n",
    "cervical_df = pd.read_csv('risk_factors_cervical_cancer.csv')\n",
    "cervicalCols = ['Age', 'Number of sexual partners', 'First sexual intercourse',\n",
    "                'Num of pregnancies', 'Smokes', 'Smokes (years)', 'Smokes (packs/year)',\n",
    "                'Hormonal Contraceptives', 'Hormonal Contraceptives (years)', 'IUD',\n",
    "                'IUD (years)', 'STDs (number)', 'STDs:condylomatosis',\n",
    "                'STDs:vaginal condylomatosis', 'STDs:vulvo-perineal condylomatosis',\n",
    "                'STDs:syphilis', 'STDs:pelvic inflammatory disease',\n",
    "                'STDs:genital herpes', 'STDs:molluscum contagiosum', 'STDs:HIV',\n",
    "                'STDs:Hepatitis B', 'STDs:HPV', 'STDs: Number of diagnosis',\n",
    "                'STDs: Time since first diagnosis', 'STDs: Time since last diagnosis',\n",
    "                'Dx:Cancer', 'Dx:HPV', 'Dx', 'Hinselmann', 'Schiller', 'Citology',\n",
    "                'Diagnosis']\n",
    "cervical_df.rename(columns = {'Biopsy':'Diagnosis'}, inplace = True)\n",
    "cervicalAllNullsSyntheticFilled = genSyntheticFillNulls(cervical_df)\n",
    "for j in cervicalAllNullsSyntheticFilled:\n",
    "    cervicalAllNullsSyntheticFilled[j] = cervicalAllNullsSyntheticFilled[j].astype(np.float)\n",
    "X = cervicalAllNullsSyntheticFilled[cervicalCols[:-4]]\n",
    "y = cervicalAllNullsSyntheticFilled[cervicalCols[-1]]\n",
    "nullFillNB, nullFillLog, nullFillSVM, nullFillDT, nullFillVote = trainF1CrossValModels(X, y)\n",
    "\n",
    "print('NB Mean Scores: {}'.format(np.mean(balNullFillNB)))\n",
    "print('LR Mean Scores: {}'.format(np.mean(balNullFillLog)))\n",
    "print('SVM Mean Scores: {}'.format(np.mean(balNullFillSVM)))\n",
    "print('DT Mean Scores: {}'.format(np.mean(balNullFillDT)))\n",
    "print('VC Mean Scores: {}'.format(np.mean(balNullFillVote)))\n"
   ]
  }
 ],
 "metadata": {
  "kernelspec": {
   "display_name": "Python 3.9.7 ('base')",
   "language": "python",
   "name": "python3"
  },
  "language_info": {
   "codemirror_mode": {
    "name": "ipython",
    "version": 3
   },
   "file_extension": ".py",
   "mimetype": "text/x-python",
   "name": "python",
   "nbconvert_exporter": "python",
   "pygments_lexer": "ipython3",
   "version": "3.9.7"
  },
  "orig_nbformat": 4,
  "vscode": {
   "interpreter": {
    "hash": "a21a4d8430ca198249bdb796151de090f5777c48c0e324da81ff190d429db2a2"
   }
  }
 },
 "nbformat": 4,
 "nbformat_minor": 2
}
